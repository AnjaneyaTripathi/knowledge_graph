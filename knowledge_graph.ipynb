{
 "cells": [
  {
   "cell_type": "code",
   "execution_count": 2,
   "metadata": {},
   "outputs": [
    {
     "name": "stderr",
     "output_type": "stream",
     "text": [
      "[nltk_data] Downloading package wordnet to\n",
      "[nltk_data]     /Users/anjaneyatripathi/nltk_data...\n",
      "[nltk_data]   Package wordnet is already up-to-date!\n",
      "[nltk_data] Downloading package punkt to\n",
      "[nltk_data]     /Users/anjaneyatripathi/nltk_data...\n",
      "[nltk_data]   Package punkt is already up-to-date!\n"
     ]
    }
   ],
   "source": [
    "import re\n",
    "import nltk\n",
    "from nltk.tokenize import sent_tokenize\n",
    "import spacy\n",
    "from spacy import displacy\n",
    "from termcolor import colored\n",
    "from extraction import findSVOs\n",
    "import en_core_web_lg\n",
    "import networkx as nx\n",
    "import matplotlib.pyplot as plt\n",
    "from topic_modelling import get_topics\n",
    "import time\n",
    "\n",
    "nlp = en_core_web_lg.load()"
   ]
  },
  {
   "cell_type": "code",
   "execution_count": 3,
   "metadata": {},
   "outputs": [],
   "source": [
    "colors = ['skyblue', 'red', 'yellow']"
   ]
  },
  {
   "cell_type": "code",
   "execution_count": 12,
   "metadata": {},
   "outputs": [],
   "source": [
    "def create_graph(final_nodes, cnt):\n",
    "    source = []\n",
    "    target = []\n",
    "    edge = []\n",
    "    indexes = []\n",
    "\n",
    "    for i in (range(len(final_nodes))):\n",
    "        ent1 = (final_nodes[i][0])\n",
    "        ent2 = (final_nodes[i][2])\n",
    "        rel = final_nodes[i][1] \n",
    "        source.append(ent1.lower().strip())\n",
    "        target.append(ent2.lower().strip())\n",
    "        edge.append(\"\".join(rel).strip())\n",
    "        indexes.append(i)\n",
    "    #print(\"\\nTotal number of extracted pairs:\", len(edge))\n",
    "    #print(\"\\nEdges: \", edge)\n",
    "    #print(\"\\nEntities: \", final_nodes)\n",
    "    if(len(edge)==0 or len(final_nodes)==0):\n",
    "        print('False')\n",
    "    else:\n",
    "        G = nx.DiGraph(directed=True)\n",
    "        for i in (range(len(edge))):\n",
    "            G.add_weighted_edges_from([(source[i],target[i],i)])\n",
    "        print(G.nodes)\n",
    "        print(G.edges)\n",
    "        print(\"\\nGraph generated\")\n",
    "        size=20\n",
    "        if len(edge)/2 > 20:\n",
    "            size = len(edge)/2\n",
    "        plt.figure(figsize=(size,size))\n",
    "        edge_labels=dict([((u,v,),edge[d['weight']]) for u,v,d in G.edges(data=True)])\n",
    "        pos = nx.spring_layout(G,k=0.8)\n",
    "        nx.draw(G, with_labels=True, node_color=colors[cnt], node_size=5000, edge_color='r', edge_cmap=plt.cm.Blues, pos=pos, font_size=20)\n",
    "        nx.draw_networkx_edge_labels(G,pos,edge_labels=edge_labels, font_size=15)\n",
    "        return G, edge_labels"
   ]
  },
  {
   "cell_type": "code",
   "execution_count": 21,
   "metadata": {},
   "outputs": [
    {
     "name": "stdout",
     "output_type": "stream",
     "text": [
      "Topic:  0\n",
      "[('The Commission', 'revoked', 'IIG registration')]\n",
      "[('Hu', 'orchestrated', 'multiple frauds on IIG investment advisory clients')]\n",
      "[('The complaint', 'alleges'), ('Hu', 'deceived', 'IIG clients'), ('the loans', 'purported'), ('the existent loans ,', 'including'), ('a agreement', 'forged')]\n",
      "[('The SEC', 'charged', 'IIG')]\n",
      "Finalnodes:  [('The Commission', 'revoked', 'IIG registration'), ('Hu', 'orchestrated', 'multiple frauds on IIG investment advisory clients'), ('Hu', 'deceived', 'IIG clients'), ('The SEC', 'charged', 'IIG')]\n",
      "Topic:  1\n",
      "[('Judge Denise L. Cote of for', 'entered', 'a partial judgment against'), ('a adviser', 'registered')]\n",
      "[('The complaint ,', 'filed'), ('The complaint ,', 'charges', 'Hu')]\n",
      "[('a bifurcated settlement', 'consent', 'Hu'), ('the provisions with monetary relief', 'charged'), ('the court', 'determine', 'an amount'), ('a later date upon motion of', 'determine', 'an amount')]\n",
      "[('the SEC', 'obtained', 'a final judgment on consent'), ('consent', 'enjoining', 'IIG'), ('consent', 'violating', 'the antifraud provisions of the federal securities laws'), ('consent', 'pay', 'IIG'), ('consent', 'pay', 'more than $ 35 million in disgorgement interest'), ('consent', 'pay', 'more than $ 35 million in')]\n",
      "Finalnodes:  [('Judge Denise L. Cote of for', 'entered', 'a partial judgment against'), ('The complaint ,', 'charges', 'Hu'), ('a bifurcated settlement', 'consent', 'Hu'), ('the court', 'determine', 'an amount'), ('a later date upon motion of', 'determine', 'an amount'), ('the SEC', 'obtained', 'a final judgment on consent'), ('consent', 'enjoining', 'IIG'), ('consent', 'violating', 'the antifraud provisions of the federal securities laws'), ('consent', 'pay', 'IIG'), ('consent', 'pay', 'more than $ 35 million in disgorgement interest'), ('consent', 'pay', 'more than $ 35 million in')]\n",
      "Topic:  2\n",
      "[('Hu', 'overvalued', 'the assets in IIG flagship hedge fund')]\n",
      "[('Hu', 'sold', 'least $ 60 million in fake finance loans'), ('Hu', 'sold', 'to investors')]\n",
      "Finalnodes:  [('Hu', 'overvalued', 'the assets in IIG flagship hedge fund'), ('Hu', 'sold', 'least $ 60 million in fake finance loans'), ('Hu', 'sold', 'to investors')]\n"
     ]
    }
   ],
   "source": [
    "no_of_topics = 3\n",
    "topics = get_topics('data/docs/text3.txt', no_of_topics)\n",
    "cnt=-1\n",
    "\n",
    "graphs = []\n",
    "for i in topics:\n",
    "    print('Topic: ', i)\n",
    "    cnt+=1\n",
    "    final_nodes = []\n",
    "    nodes = []\n",
    "    for sentence in topics[i]: \n",
    "        tokens = nlp(sentence)\n",
    "        svos = findSVOs(tokens)\n",
    "        print(svos)\n",
    "        nodes.append(svos)\n",
    "    for i in nodes:\n",
    "        for j in i:\n",
    "            if(len(j) == 3):\n",
    "                final_nodes.append(j)\n",
    "    print('Finalnodes: ', final_nodes)\n",
    "    '''\n",
    "    #print('final_nodes: ', final_nodes)\n",
    "    graphs.append(create_graph(final_nodes, cnt))\n",
    "    name = str(time.time())\n",
    "    #plt.savefig('./images/' + name + '.png')\n",
    "    '''\n"
   ]
  },
  {
   "cell_type": "code",
   "execution_count": null,
   "metadata": {},
   "outputs": [],
   "source": [
    "i=0\n",
    "for graph in graphs:\n",
    "    ax = plt.subplots()\n",
    "    pos = nx.spring_layout(graph[0],k=10)\n",
    "    nx.draw(graph[0], with_labels=True, node_color=colors[i], node_size=2000, edge_color='r', edge_cmap=plt.cm.Blues, pos=pos, font_size=10, ax=None)\n",
    "    nx.draw_networkx_edge_labels(graph[0],pos,edge_labels=graph[1], font_size=10)\n",
    "    i=i+1\n"
   ]
  },
  {
   "cell_type": "code",
   "execution_count": null,
   "metadata": {},
   "outputs": [],
   "source": []
  }
 ],
 "metadata": {
  "kernelspec": {
   "display_name": "Python 3",
   "language": "python",
   "name": "python3"
  },
  "language_info": {
   "codemirror_mode": {
    "name": "ipython",
    "version": 3
   },
   "file_extension": ".py",
   "mimetype": "text/x-python",
   "name": "python",
   "nbconvert_exporter": "python",
   "pygments_lexer": "ipython3",
   "version": "3.8.5"
  }
 },
 "nbformat": 4,
 "nbformat_minor": 4
}
