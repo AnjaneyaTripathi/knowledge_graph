{
 "cells": [
  {
   "cell_type": "code",
   "execution_count": 1,
   "metadata": {},
   "outputs": [
    {
     "name": "stderr",
     "output_type": "stream",
     "text": [
      "[nltk_data] Downloading package wordnet to\n",
      "[nltk_data]     /Users/anjaneyatripathi/nltk_data...\n",
      "[nltk_data]   Package wordnet is already up-to-date!\n",
      "[nltk_data] Downloading package punkt to\n",
      "[nltk_data]     /Users/anjaneyatripathi/nltk_data...\n",
      "[nltk_data]   Package punkt is already up-to-date!\n"
     ]
    }
   ],
   "source": [
    "import pandas as pd\n",
    "import re\n",
    "import nltk\n",
    "from nltk.tokenize import sent_tokenize\n",
    "import spacy\n",
    "from spacy import displacy\n",
    "from termcolor import colored\n",
    "from extraction import findSVOs\n",
    "import networkx as nx\n",
    "import matplotlib.pyplot as plt\n",
    "from topic_modelling import get_topics\n",
    "import time\n",
    "from oops import actionTaken, getViolations, getViolators"
   ]
  },
  {
   "cell_type": "code",
   "execution_count": 2,
   "metadata": {},
   "outputs": [],
   "source": [
    "import en_core_web_lg\n",
    "nlp = en_core_web_lg.load()"
   ]
  },
  {
   "cell_type": "code",
   "execution_count": 10,
   "metadata": {},
   "outputs": [],
   "source": [
    "def identify_crime(text, types, folders):\n",
    "    text = text.lower()\n",
    "    data = []\n",
    "    for i in range(len(types)):\n",
    "        if(text.find(types[i]) != -1):\n",
    "            data.append(folders[i])\n",
    "    return data"
   ]
  },
  {
   "cell_type": "code",
   "execution_count": 17,
   "metadata": {},
   "outputs": [],
   "source": [
    "df = pd.read_csv('data.csv')\n",
    "\n",
    "df.Text = df.Text.apply(lambda x : x.replace('\\\\n', '\\n'))\n",
    "df.Text = df.Text.apply(lambda x : x.replace('\\\\t', '\\t'))\n",
    "\n",
    "types = ['insider', 'misappropriate', 'unregister', 'fraud']\n",
    "folders = ['Insider Trading', 'Misappropriated Funds', 'Unregistered', 'Fraud']\n",
    "crimes = []\n",
    "actions = []\n",
    "violations = []\n",
    "violators = []\n",
    "\n",
    "for i in range(len(df['Text'])):\n",
    "    text = df['Text'][i]\n",
    "    crimes.append(identify_crime(text, types, folders))\n",
    "    action = actionTaken(text)\n",
    "    violation = getViolations(text)\n",
    "    violator = getViolators(text)\n",
    "    violations.append(violation)\n",
    "    violators.append(violator)\n",
    "    actions.append(action)\n",
    "\n",
    "df['Crimes'] = crimes\n",
    "df['Violations'] = violations\n",
    "df['Violators'] = violators\n",
    "df['Action Taken'] = actions"
   ]
  },
  {
   "cell_type": "code",
   "execution_count": 18,
   "metadata": {},
   "outputs": [
    {
     "data": {
      "text/html": [
       "<div>\n",
       "<style scoped>\n",
       "    .dataframe tbody tr th:only-of-type {\n",
       "        vertical-align: middle;\n",
       "    }\n",
       "\n",
       "    .dataframe tbody tr th {\n",
       "        vertical-align: top;\n",
       "    }\n",
       "\n",
       "    .dataframe thead th {\n",
       "        text-align: right;\n",
       "    }\n",
       "</style>\n",
       "<table border=\"1\" class=\"dataframe\">\n",
       "  <thead>\n",
       "    <tr style=\"text-align: right;\">\n",
       "      <th></th>\n",
       "      <th>Text</th>\n",
       "      <th>Crimes</th>\n",
       "      <th>Violations</th>\n",
       "      <th>Violators</th>\n",
       "      <th>Action Taken</th>\n",
       "    </tr>\n",
       "  </thead>\n",
       "  <tbody>\n",
       "    <tr>\n",
       "      <th>0</th>\n",
       "      <td>sec charges at&amp;t and three executives with sel...</td>\n",
       "      <td>[]</td>\n",
       "      <td>[violations of the disclosure provisions of Se...</td>\n",
       "      <td>[at&amp;t, inc., et al.]</td>\n",
       "      <td>[the complaint seeks permanent injunctive reli...</td>\n",
       "    </tr>\n",
       "    <tr>\n",
       "      <th>1</th>\n",
       "      <td>u.s. securities and exchange commission\\n\\nlit...</td>\n",
       "      <td>[Insider Trading, Fraud]</td>\n",
       "      <td>[violating Section 10(b) of the securities exc...</td>\n",
       "      <td>[mitchel s. guttenberg, erik r. franklin, davi...</td>\n",
       "      <td>[]</td>\n",
       "    </tr>\n",
       "    <tr>\n",
       "      <th>2</th>\n",
       "      <td>u.s. securities and exchange commission\\n\\nlit...</td>\n",
       "      <td>[Insider Trading]</td>\n",
       "      <td>[violating Sections 10(b) and 14(e) of the sec...</td>\n",
       "      <td>[dr. bobby v. khan, civil cas]</td>\n",
       "      <td>[the commission seeks an order permanently enj...</td>\n",
       "    </tr>\n",
       "    <tr>\n",
       "      <th>3</th>\n",
       "      <td>\\t\\nu.s. securities and exchange commission\\n\\...</td>\n",
       "      <td>[Insider Trading]</td>\n",
       "      <td>[violated Sections 10(b) and 14(e) of the secu...</td>\n",
       "      <td>[matthew h. kluger and garrett d. bauer, cas]</td>\n",
       "      <td>[]</td>\n",
       "    </tr>\n",
       "    <tr>\n",
       "      <th>4</th>\n",
       "      <td>\\t\\nu.s. securities and exchange commission\\n\\...</td>\n",
       "      <td>[Insider Trading]</td>\n",
       "      <td>[violations of Section 10(b) of the securities...</td>\n",
       "      <td>[]</td>\n",
       "      <td>[without admitting or denying the allegations ...</td>\n",
       "    </tr>\n",
       "  </tbody>\n",
       "</table>\n",
       "</div>"
      ],
      "text/plain": [
       "                                                Text  \\\n",
       "0  sec charges at&t and three executives with sel...   \n",
       "1  u.s. securities and exchange commission\\n\\nlit...   \n",
       "2  u.s. securities and exchange commission\\n\\nlit...   \n",
       "3  \\t\\nu.s. securities and exchange commission\\n\\...   \n",
       "4  \\t\\nu.s. securities and exchange commission\\n\\...   \n",
       "\n",
       "                     Crimes  \\\n",
       "0                        []   \n",
       "1  [Insider Trading, Fraud]   \n",
       "2         [Insider Trading]   \n",
       "3         [Insider Trading]   \n",
       "4         [Insider Trading]   \n",
       "\n",
       "                                          Violations  \\\n",
       "0  [violations of the disclosure provisions of Se...   \n",
       "1  [violating Section 10(b) of the securities exc...   \n",
       "2  [violating Sections 10(b) and 14(e) of the sec...   \n",
       "3  [violated Sections 10(b) and 14(e) of the secu...   \n",
       "4  [violations of Section 10(b) of the securities...   \n",
       "\n",
       "                                           Violators  \\\n",
       "0                               [at&t, inc., et al.]   \n",
       "1  [mitchel s. guttenberg, erik r. franklin, davi...   \n",
       "2                     [dr. bobby v. khan, civil cas]   \n",
       "3      [matthew h. kluger and garrett d. bauer, cas]   \n",
       "4                                                 []   \n",
       "\n",
       "                                        Action Taken  \n",
       "0  [the complaint seeks permanent injunctive reli...  \n",
       "1                                                 []  \n",
       "2  [the commission seeks an order permanently enj...  \n",
       "3                                                 []  \n",
       "4  [without admitting or denying the allegations ...  "
      ]
     },
     "execution_count": 18,
     "metadata": {},
     "output_type": "execute_result"
    }
   ],
   "source": [
    "df.head()"
   ]
  },
  {
   "cell_type": "code",
   "execution_count": 19,
   "metadata": {},
   "outputs": [],
   "source": [
    "df.Text = df.Text.apply(lambda x : x.replace('\\n', '\\\\n'))\n",
    "df.Text = df.Text.apply(lambda x : x.replace('\\t', '\\\\t'))\n",
    "\n",
    "df.to_csv('data.csv', index=False)"
   ]
  },
  {
   "cell_type": "code",
   "execution_count": 32,
   "metadata": {},
   "outputs": [
    {
     "name": "stdout",
     "output_type": "stream",
     "text": [
      "[[['at&t, inc., et al.'], 'violated', ['violations of the disclosure provisions of Section 13(a) of the securities exchange act of 1934 and regulation fd thereunder']], [['at&t, inc., et al.'], 'carried out', []], [['at&t, inc., et al.'], 'charged with', ['the complaint seeks permanent injunctive relief and civil monetary penalties against each defendant.']]]\n",
      "\n",
      "Total number of extracted pairs: 3\n",
      "\n",
      "Edges:  ['violated', 'carried out', 'charged with']\n",
      "\n",
      "Entities:  [[['at&t, inc., et al.'], 'violated', ['violations of the disclosure provisions of Section 13(a) of the securities exchange act of 1934 and regulation fd thereunder']], [['at&t, inc., et al.'], 'carried out', []], [['at&t, inc., et al.'], 'charged with', ['the complaint seeks permanent injunctive relief and civil monetary penalties against each defendant.']]]\n"
     ]
    },
    {
     "ename": "TypeError",
     "evalue": "unhashable type: 'list'",
     "output_type": "error",
     "traceback": [
      "\u001b[0;31m---------------------------------------------------------------------------\u001b[0m",
      "\u001b[0;31mTypeError\u001b[0m                                 Traceback (most recent call last)",
      "\u001b[0;32m<ipython-input-32-b77db21a4497>\u001b[0m in \u001b[0;36m<module>\u001b[0;34m\u001b[0m\n\u001b[1;32m     23\u001b[0m     \u001b[0mprint\u001b[0m\u001b[0;34m(\u001b[0m\u001b[0mfinal_nodes\u001b[0m\u001b[0;34m)\u001b[0m\u001b[0;34m\u001b[0m\u001b[0;34m\u001b[0m\u001b[0m\n\u001b[1;32m     24\u001b[0m \u001b[0;34m\u001b[0m\u001b[0m\n\u001b[0;32m---> 25\u001b[0;31m     \u001b[0mcreate_graph\u001b[0m\u001b[0;34m(\u001b[0m\u001b[0mfinal_nodes\u001b[0m\u001b[0;34m,\u001b[0m \u001b[0;36m1\u001b[0m\u001b[0;34m)\u001b[0m\u001b[0;34m\u001b[0m\u001b[0;34m\u001b[0m\u001b[0m\n\u001b[0m",
      "\u001b[0;32m<ipython-input-31-c1d3b91a8245>\u001b[0m in \u001b[0;36mcreate_graph\u001b[0;34m(final_nodes, cnt)\u001b[0m\n\u001b[1;32m     21\u001b[0m         \u001b[0mG\u001b[0m \u001b[0;34m=\u001b[0m \u001b[0mnx\u001b[0m\u001b[0;34m.\u001b[0m\u001b[0mDiGraph\u001b[0m\u001b[0;34m(\u001b[0m\u001b[0mdirected\u001b[0m\u001b[0;34m=\u001b[0m\u001b[0;32mTrue\u001b[0m\u001b[0;34m)\u001b[0m\u001b[0;34m\u001b[0m\u001b[0;34m\u001b[0m\u001b[0m\n\u001b[1;32m     22\u001b[0m         \u001b[0;32mfor\u001b[0m \u001b[0mi\u001b[0m \u001b[0;32min\u001b[0m \u001b[0;34m(\u001b[0m\u001b[0mrange\u001b[0m\u001b[0;34m(\u001b[0m\u001b[0mlen\u001b[0m\u001b[0;34m(\u001b[0m\u001b[0medge\u001b[0m\u001b[0;34m)\u001b[0m\u001b[0;34m)\u001b[0m\u001b[0;34m)\u001b[0m\u001b[0;34m:\u001b[0m\u001b[0;34m\u001b[0m\u001b[0;34m\u001b[0m\u001b[0m\n\u001b[0;32m---> 23\u001b[0;31m             \u001b[0mG\u001b[0m\u001b[0;34m.\u001b[0m\u001b[0madd_weighted_edges_from\u001b[0m\u001b[0;34m(\u001b[0m\u001b[0;34m[\u001b[0m\u001b[0;34m(\u001b[0m\u001b[0msource\u001b[0m\u001b[0;34m[\u001b[0m\u001b[0mi\u001b[0m\u001b[0;34m]\u001b[0m\u001b[0;34m,\u001b[0m\u001b[0mtarget\u001b[0m\u001b[0;34m[\u001b[0m\u001b[0mi\u001b[0m\u001b[0;34m]\u001b[0m\u001b[0;34m,\u001b[0m\u001b[0mi\u001b[0m\u001b[0;34m)\u001b[0m\u001b[0;34m]\u001b[0m\u001b[0;34m)\u001b[0m\u001b[0;34m\u001b[0m\u001b[0;34m\u001b[0m\u001b[0m\n\u001b[0m\u001b[1;32m     24\u001b[0m         \u001b[0mprint\u001b[0m\u001b[0;34m(\u001b[0m\u001b[0;34m\"\\nGraph generated\"\u001b[0m\u001b[0;34m)\u001b[0m\u001b[0;34m\u001b[0m\u001b[0;34m\u001b[0m\u001b[0m\n\u001b[1;32m     25\u001b[0m         \u001b[0msize\u001b[0m\u001b[0;34m=\u001b[0m\u001b[0;36m20\u001b[0m\u001b[0;34m\u001b[0m\u001b[0;34m\u001b[0m\u001b[0m\n",
      "\u001b[0;32m~/opt/anaconda3/lib/python3.8/site-packages/networkx/classes/graph.py\u001b[0m in \u001b[0;36madd_weighted_edges_from\u001b[0;34m(self, ebunch_to_add, weight, **attr)\u001b[0m\n\u001b[1;32m    971\u001b[0m         \u001b[0;34m>>\u001b[0m\u001b[0;34m>\u001b[0m \u001b[0mG\u001b[0m\u001b[0;34m.\u001b[0m\u001b[0madd_weighted_edges_from\u001b[0m\u001b[0;34m(\u001b[0m\u001b[0;34m[\u001b[0m\u001b[0;34m(\u001b[0m\u001b[0;36m0\u001b[0m\u001b[0;34m,\u001b[0m \u001b[0;36m1\u001b[0m\u001b[0;34m,\u001b[0m \u001b[0;36m3.0\u001b[0m\u001b[0;34m)\u001b[0m\u001b[0;34m,\u001b[0m \u001b[0;34m(\u001b[0m\u001b[0;36m1\u001b[0m\u001b[0;34m,\u001b[0m \u001b[0;36m2\u001b[0m\u001b[0;34m,\u001b[0m \u001b[0;36m7.5\u001b[0m\u001b[0;34m)\u001b[0m\u001b[0;34m]\u001b[0m\u001b[0;34m)\u001b[0m\u001b[0;34m\u001b[0m\u001b[0;34m\u001b[0m\u001b[0m\n\u001b[1;32m    972\u001b[0m         \"\"\"\n\u001b[0;32m--> 973\u001b[0;31m         \u001b[0mself\u001b[0m\u001b[0;34m.\u001b[0m\u001b[0madd_edges_from\u001b[0m\u001b[0;34m(\u001b[0m\u001b[0;34m(\u001b[0m\u001b[0;34m(\u001b[0m\u001b[0mu\u001b[0m\u001b[0;34m,\u001b[0m \u001b[0mv\u001b[0m\u001b[0;34m,\u001b[0m \u001b[0;34m{\u001b[0m\u001b[0mweight\u001b[0m\u001b[0;34m:\u001b[0m \u001b[0md\u001b[0m\u001b[0;34m}\u001b[0m\u001b[0;34m)\u001b[0m \u001b[0;32mfor\u001b[0m \u001b[0mu\u001b[0m\u001b[0;34m,\u001b[0m \u001b[0mv\u001b[0m\u001b[0;34m,\u001b[0m \u001b[0md\u001b[0m \u001b[0;32min\u001b[0m \u001b[0mebunch_to_add\u001b[0m\u001b[0;34m)\u001b[0m\u001b[0;34m,\u001b[0m \u001b[0;34m**\u001b[0m\u001b[0mattr\u001b[0m\u001b[0;34m)\u001b[0m\u001b[0;34m\u001b[0m\u001b[0;34m\u001b[0m\u001b[0m\n\u001b[0m\u001b[1;32m    974\u001b[0m \u001b[0;34m\u001b[0m\u001b[0m\n\u001b[1;32m    975\u001b[0m     \u001b[0;32mdef\u001b[0m \u001b[0mremove_edge\u001b[0m\u001b[0;34m(\u001b[0m\u001b[0mself\u001b[0m\u001b[0;34m,\u001b[0m \u001b[0mu\u001b[0m\u001b[0;34m,\u001b[0m \u001b[0mv\u001b[0m\u001b[0;34m)\u001b[0m\u001b[0;34m:\u001b[0m\u001b[0;34m\u001b[0m\u001b[0;34m\u001b[0m\u001b[0m\n",
      "\u001b[0;32m~/opt/anaconda3/lib/python3.8/site-packages/networkx/classes/digraph.py\u001b[0m in \u001b[0;36madd_edges_from\u001b[0;34m(self, ebunch_to_add, **attr)\u001b[0m\n\u001b[1;32m    685\u001b[0m             \u001b[0;32melse\u001b[0m\u001b[0;34m:\u001b[0m\u001b[0;34m\u001b[0m\u001b[0;34m\u001b[0m\u001b[0m\n\u001b[1;32m    686\u001b[0m                 \u001b[0;32mraise\u001b[0m \u001b[0mNetworkXError\u001b[0m\u001b[0;34m(\u001b[0m\u001b[0;34mf\"Edge tuple {e} must be a 2-tuple or 3-tuple.\"\u001b[0m\u001b[0;34m)\u001b[0m\u001b[0;34m\u001b[0m\u001b[0;34m\u001b[0m\u001b[0m\n\u001b[0;32m--> 687\u001b[0;31m             \u001b[0;32mif\u001b[0m \u001b[0mu\u001b[0m \u001b[0;32mnot\u001b[0m \u001b[0;32min\u001b[0m \u001b[0mself\u001b[0m\u001b[0;34m.\u001b[0m\u001b[0m_succ\u001b[0m\u001b[0;34m:\u001b[0m\u001b[0;34m\u001b[0m\u001b[0;34m\u001b[0m\u001b[0m\n\u001b[0m\u001b[1;32m    688\u001b[0m                 \u001b[0mself\u001b[0m\u001b[0;34m.\u001b[0m\u001b[0m_succ\u001b[0m\u001b[0;34m[\u001b[0m\u001b[0mu\u001b[0m\u001b[0;34m]\u001b[0m \u001b[0;34m=\u001b[0m \u001b[0mself\u001b[0m\u001b[0;34m.\u001b[0m\u001b[0madjlist_inner_dict_factory\u001b[0m\u001b[0;34m(\u001b[0m\u001b[0;34m)\u001b[0m\u001b[0;34m\u001b[0m\u001b[0;34m\u001b[0m\u001b[0m\n\u001b[1;32m    689\u001b[0m                 \u001b[0mself\u001b[0m\u001b[0;34m.\u001b[0m\u001b[0m_pred\u001b[0m\u001b[0;34m[\u001b[0m\u001b[0mu\u001b[0m\u001b[0;34m]\u001b[0m \u001b[0;34m=\u001b[0m \u001b[0mself\u001b[0m\u001b[0;34m.\u001b[0m\u001b[0madjlist_inner_dict_factory\u001b[0m\u001b[0;34m(\u001b[0m\u001b[0;34m)\u001b[0m\u001b[0;34m\u001b[0m\u001b[0;34m\u001b[0m\u001b[0m\n",
      "\u001b[0;31mTypeError\u001b[0m: unhashable type: 'list'"
     ]
    }
   ],
   "source": [
    "for i in range(len(df['Text'])):\n",
    "    \n",
    "    final_nodes = []\n",
    "    \n",
    "    nodes = []\n",
    "    nodes.append(df['Violators'][i])\n",
    "    nodes.append('violated')\n",
    "    nodes.append(df['Violations'][i])\n",
    "    final_nodes.append(nodes)\n",
    "    \n",
    "    nodes = []\n",
    "    nodes.append(df['Violators'][i])\n",
    "    nodes.append('carried out')\n",
    "    nodes.append(df['Crimes'][i])\n",
    "    final_nodes.append(nodes)\n",
    "    \n",
    "    nodes = []\n",
    "    nodes.append(df['Violators'][i])\n",
    "    nodes.append('charged with')\n",
    "    nodes.append(df['Action Taken'][i])\n",
    "    final_nodes.append(nodes)\n",
    "    \n",
    "    print(final_nodes)\n",
    "    \n",
    "    create_graph(final_nodes, 1)"
   ]
  },
  {
   "cell_type": "code",
   "execution_count": 31,
   "metadata": {},
   "outputs": [],
   "source": [
    "def create_graph(final_nodes, cnt):\n",
    "    source = []\n",
    "    target = []\n",
    "    edge = []\n",
    "    indexes = []\n",
    "\n",
    "    for i in (range(len(final_nodes))):\n",
    "        ent1 = (final_nodes[i][0])\n",
    "        ent2 = (final_nodes[i][2])\n",
    "        rel = final_nodes[i][1] \n",
    "        source.append(ent1)\n",
    "        target.append(ent2)\n",
    "        edge.append(\"\".join(rel).strip())\n",
    "        indexes.append(i)\n",
    "    print(\"\\nTotal number of extracted pairs:\", len(edge))\n",
    "    print(\"\\nEdges: \", edge)\n",
    "    print(\"\\nEntities: \", final_nodes)\n",
    "    if(len(edge)==0 or len(final_nodes)==0):\n",
    "        print('False')\n",
    "    else:\n",
    "        G = nx.DiGraph(directed=True)\n",
    "        for i in (range(len(edge))):\n",
    "            G.add_weighted_edges_from([(source[i],target[i],i)])\n",
    "        print(\"\\nGraph generated\")\n",
    "        size=20\n",
    "        if len(edge)/2 > 20:\n",
    "            size = len(edge)/2\n",
    "        plt.figure(figsize=(size,size))\n",
    "        edge_labels=dict([((u,v,),edge[d['weight']]) for u,v,d in G.edges(data=True)])\n",
    "        pos = nx.spring_layout(G,k=0.8)\n",
    "        nx.draw(G, with_labels=True, node_color=colors[cnt], node_size=5000, edge_color='r', edge_cmap=plt.cm.Blues, pos=pos, font_size=20)\n",
    "        nx.draw_networkx_edge_labels(G,pos,edge_labels=edge_labels, font_size=15)\n",
    "        return G, edge_labels"
   ]
  },
  {
   "cell_type": "code",
   "execution_count": null,
   "metadata": {},
   "outputs": [],
   "source": []
  }
 ],
 "metadata": {
  "kernelspec": {
   "display_name": "Python 3",
   "language": "python",
   "name": "python3"
  },
  "language_info": {
   "codemirror_mode": {
    "name": "ipython",
    "version": 3
   },
   "file_extension": ".py",
   "mimetype": "text/x-python",
   "name": "python",
   "nbconvert_exporter": "python",
   "pygments_lexer": "ipython3",
   "version": "3.8.5"
  }
 },
 "nbformat": 4,
 "nbformat_minor": 4
}
