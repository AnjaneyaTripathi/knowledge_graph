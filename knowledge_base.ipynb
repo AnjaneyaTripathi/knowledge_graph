{
 "cells": [
  {
   "cell_type": "code",
   "execution_count": 1,
   "metadata": {},
   "outputs": [
    {
     "name": "stderr",
     "output_type": "stream",
     "text": [
      "[nltk_data] Downloading package wordnet to\n",
      "[nltk_data]     /Users/anjaneyatripathi/nltk_data...\n",
      "[nltk_data]   Package wordnet is already up-to-date!\n",
      "[nltk_data] Downloading package punkt to\n",
      "[nltk_data]     /Users/anjaneyatripathi/nltk_data...\n",
      "[nltk_data]   Package punkt is already up-to-date!\n"
     ]
    }
   ],
   "source": [
    "import pandas as pd\n",
    "import re\n",
    "import nltk\n",
    "from nltk.tokenize import sent_tokenize\n",
    "import spacy\n",
    "from spacy import displacy\n",
    "from termcolor import colored\n",
    "from extraction import findSVOs\n",
    "import networkx as nx\n",
    "import matplotlib.pyplot as plt\n",
    "from topic_modelling import get_topics\n",
    "import time\n",
    "from oops import actionTaken, getViolations, getViolators"
   ]
  },
  {
   "cell_type": "code",
   "execution_count": 2,
   "metadata": {},
   "outputs": [],
   "source": [
    "import en_core_web_lg\n",
    "nlp = en_core_web_lg.load()"
   ]
  },
  {
   "cell_type": "code",
   "execution_count": 10,
   "metadata": {},
   "outputs": [],
   "source": [
    "def identify_crime(text, types, folders):\n",
    "    text = text.lower()\n",
    "    data = []\n",
    "    for i in range(len(types)):\n",
    "        if(text.find(types[i]) != -1):\n",
    "            data.append(folders[i])\n",
    "    return data"
   ]
  },
  {
   "cell_type": "code",
   "execution_count": 17,
   "metadata": {},
   "outputs": [],
   "source": [
    "df = pd.read_csv('data.csv')\n",
    "\n",
    "df.Text = df.Text.apply(lambda x : x.replace('\\\\n', '\\n'))\n",
    "df.Text = df.Text.apply(lambda x : x.replace('\\\\t', '\\t'))\n",
    "\n",
    "types = ['insider', 'misappropriate', 'unregister', 'fraud']\n",
    "folders = ['Insider Trading', 'Misappropriated Funds', 'Unregistered', 'Fraud']\n",
    "crimes = []\n",
    "actions = []\n",
    "violations = []\n",
    "violators = []\n",
    "\n",
    "for i in range(len(df['Text'])):\n",
    "    text = df['Text'][i]\n",
    "    crimes.append(identify_crime(text, types, folders))\n",
    "    action = actionTaken(text)\n",
    "    violation = getViolations(text)\n",
    "    violator = getViolators(text)\n",
    "    violations.append(violation)\n",
    "    violators.append(violator)\n",
    "    actions.append(action)\n",
    "\n",
    "df['Crimes'] = crimes\n",
    "df['Violations'] = violations\n",
    "df['Violators'] = violators\n",
    "df['Action Taken'] = actions"
   ]
  },
  {
   "cell_type": "code",
   "execution_count": 18,
   "metadata": {},
   "outputs": [
    {
     "data": {
      "text/html": [
       "<div>\n",
       "<style scoped>\n",
       "    .dataframe tbody tr th:only-of-type {\n",
       "        vertical-align: middle;\n",
       "    }\n",
       "\n",
       "    .dataframe tbody tr th {\n",
       "        vertical-align: top;\n",
       "    }\n",
       "\n",
       "    .dataframe thead th {\n",
       "        text-align: right;\n",
       "    }\n",
       "</style>\n",
       "<table border=\"1\" class=\"dataframe\">\n",
       "  <thead>\n",
       "    <tr style=\"text-align: right;\">\n",
       "      <th></th>\n",
       "      <th>Text</th>\n",
       "      <th>Crimes</th>\n",
       "      <th>Violations</th>\n",
       "      <th>Violators</th>\n",
       "      <th>Action Taken</th>\n",
       "    </tr>\n",
       "  </thead>\n",
       "  <tbody>\n",
       "    <tr>\n",
       "      <th>0</th>\n",
       "      <td>sec charges at&amp;t and three executives with sel...</td>\n",
       "      <td>[]</td>\n",
       "      <td>[violations of the disclosure provisions of Se...</td>\n",
       "      <td>[at&amp;t, inc., et al.]</td>\n",
       "      <td>[the complaint seeks permanent injunctive reli...</td>\n",
       "    </tr>\n",
       "    <tr>\n",
       "      <th>1</th>\n",
       "      <td>u.s. securities and exchange commission\\n\\nlit...</td>\n",
       "      <td>[Insider Trading, Fraud]</td>\n",
       "      <td>[violating Section 10(b) of the securities exc...</td>\n",
       "      <td>[mitchel s. guttenberg, erik r. franklin, davi...</td>\n",
       "      <td>[]</td>\n",
       "    </tr>\n",
       "    <tr>\n",
       "      <th>2</th>\n",
       "      <td>u.s. securities and exchange commission\\n\\nlit...</td>\n",
       "      <td>[Insider Trading]</td>\n",
       "      <td>[violating Sections 10(b) and 14(e) of the sec...</td>\n",
       "      <td>[dr. bobby v. khan, civil cas]</td>\n",
       "      <td>[the commission seeks an order permanently enj...</td>\n",
       "    </tr>\n",
       "    <tr>\n",
       "      <th>3</th>\n",
       "      <td>\\t\\nu.s. securities and exchange commission\\n\\...</td>\n",
       "      <td>[Insider Trading]</td>\n",
       "      <td>[violated Sections 10(b) and 14(e) of the secu...</td>\n",
       "      <td>[matthew h. kluger and garrett d. bauer, cas]</td>\n",
       "      <td>[]</td>\n",
       "    </tr>\n",
       "    <tr>\n",
       "      <th>4</th>\n",
       "      <td>\\t\\nu.s. securities and exchange commission\\n\\...</td>\n",
       "      <td>[Insider Trading]</td>\n",
       "      <td>[violations of Section 10(b) of the securities...</td>\n",
       "      <td>[]</td>\n",
       "      <td>[without admitting or denying the allegations ...</td>\n",
       "    </tr>\n",
       "  </tbody>\n",
       "</table>\n",
       "</div>"
      ],
      "text/plain": [
       "                                                Text  \\\n",
       "0  sec charges at&t and three executives with sel...   \n",
       "1  u.s. securities and exchange commission\\n\\nlit...   \n",
       "2  u.s. securities and exchange commission\\n\\nlit...   \n",
       "3  \\t\\nu.s. securities and exchange commission\\n\\...   \n",
       "4  \\t\\nu.s. securities and exchange commission\\n\\...   \n",
       "\n",
       "                     Crimes  \\\n",
       "0                        []   \n",
       "1  [Insider Trading, Fraud]   \n",
       "2         [Insider Trading]   \n",
       "3         [Insider Trading]   \n",
       "4         [Insider Trading]   \n",
       "\n",
       "                                          Violations  \\\n",
       "0  [violations of the disclosure provisions of Se...   \n",
       "1  [violating Section 10(b) of the securities exc...   \n",
       "2  [violating Sections 10(b) and 14(e) of the sec...   \n",
       "3  [violated Sections 10(b) and 14(e) of the secu...   \n",
       "4  [violations of Section 10(b) of the securities...   \n",
       "\n",
       "                                           Violators  \\\n",
       "0                               [at&t, inc., et al.]   \n",
       "1  [mitchel s. guttenberg, erik r. franklin, davi...   \n",
       "2                     [dr. bobby v. khan, civil cas]   \n",
       "3      [matthew h. kluger and garrett d. bauer, cas]   \n",
       "4                                                 []   \n",
       "\n",
       "                                        Action Taken  \n",
       "0  [the complaint seeks permanent injunctive reli...  \n",
       "1                                                 []  \n",
       "2  [the commission seeks an order permanently enj...  \n",
       "3                                                 []  \n",
       "4  [without admitting or denying the allegations ...  "
      ]
     },
     "execution_count": 18,
     "metadata": {},
     "output_type": "execute_result"
    }
   ],
   "source": [
    "df.head()"
   ]
  },
  {
   "cell_type": "code",
   "execution_count": 19,
   "metadata": {},
   "outputs": [],
   "source": [
    "df.Text = df.Text.apply(lambda x : x.replace('\\n', '\\\\n'))\n",
    "df.Text = df.Text.apply(lambda x : x.replace('\\t', '\\\\t'))\n",
    "\n",
    "df.to_csv('data.csv', index=False)"
   ]
  },
  {
   "cell_type": "code",
   "execution_count": null,
   "metadata": {},
   "outputs": [],
   "source": []
  }
 ],
 "metadata": {
  "kernelspec": {
   "display_name": "Python 3",
   "language": "python",
   "name": "python3"
  },
  "language_info": {
   "codemirror_mode": {
    "name": "ipython",
    "version": 3
   },
   "file_extension": ".py",
   "mimetype": "text/x-python",
   "name": "python",
   "nbconvert_exporter": "python",
   "pygments_lexer": "ipython3",
   "version": "3.8.5"
  }
 },
 "nbformat": 4,
 "nbformat_minor": 4
}
