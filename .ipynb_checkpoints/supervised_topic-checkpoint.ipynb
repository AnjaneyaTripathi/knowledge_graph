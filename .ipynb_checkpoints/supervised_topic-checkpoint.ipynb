{
 "cells": [
  {
   "cell_type": "code",
   "execution_count": 16,
   "metadata": {},
   "outputs": [
    {
     "name": "stderr",
     "output_type": "stream",
     "text": [
      "[nltk_data] Downloading package wordnet to\n",
      "[nltk_data]     /Users/anjaneyatripathi/nltk_data...\n",
      "[nltk_data]   Package wordnet is already up-to-date!\n",
      "[nltk_data] Downloading package punkt to\n",
      "[nltk_data]     /Users/anjaneyatripathi/nltk_data...\n",
      "[nltk_data]   Package punkt is already up-to-date!\n"
     ]
    }
   ],
   "source": [
    "from nltk.stem import WordNetLemmatizer, SnowballStemmer\n",
    "from nltk.stem.porter import *\n",
    "import numpy as np\n",
    "import nltk\n",
    "import networkx as nx\n",
    "import matplotlib.pyplot as plt\n",
    "from nltk.tokenize import sent_tokenize\n",
    "import en_core_web_lg\n",
    "\n",
    "nlp = en_core_web_lg.load()\n",
    "nltk.download('wordnet')\n",
    "nltk.download('punkt')\n",
    "stemmer = SnowballStemmer(\"english\")\n",
    "\n",
    "%matplotlib inline"
   ]
  },
  {
   "cell_type": "code",
   "execution_count": 2,
   "metadata": {},
   "outputs": [],
   "source": [
    "def load_text(file_name):\n",
    "    \n",
    "    with open(file_name, 'r') as file:\n",
    "        text = file.read()\n",
    "        \n",
    "    sentences = sent_tokenize(text)\n",
    "    \n",
    "    return sentences"
   ]
  },
  {
   "cell_type": "code",
   "execution_count": 25,
   "metadata": {},
   "outputs": [],
   "source": [
    "actions = ['barred',\n",
    "          'banned',\n",
    "          'revoked',\n",
    "          'fined',\n",
    "          'punished',\n",
    "          'sentenced',\n",
    "          'jailed',\n",
    "          'served']\n",
    "\n",
    "crimes = ['fraud', \n",
    "          'crime', \n",
    "          'laundering', \n",
    "          'soliciting', \n",
    "          'terrorist', \n",
    "          'fake', \n",
    "          'bribery', \n",
    "          'misappropriate', \n",
    "          'illicit', \n",
    "          'corruption', \n",
    "          'abuse', \n",
    "          'insider', \n",
    "          'security']"
   ]
  },
  {
   "cell_type": "raw",
   "metadata": {},
   "source": [
    "print(crimes)"
   ]
  },
  {
   "cell_type": "code",
   "execution_count": 12,
   "metadata": {},
   "outputs": [],
   "source": [
    "f_crimes = []\n",
    "\n",
    "for word in crimes:\n",
    "    f_crimes.append(stemmer.stem(WordNetLemmatizer().lemmatize(word, pos='v')))"
   ]
  },
  {
   "cell_type": "code",
   "execution_count": 13,
   "metadata": {},
   "outputs": [
    {
     "name": "stdout",
     "output_type": "stream",
     "text": [
      "['fraud', 'crime', 'launder', 'solicit', 'terrorist', 'briberi', 'misappropri', 'illicit', 'corrupt', 'abus', 'insid', 'information secur']\n"
     ]
    }
   ],
   "source": [
    "print(f_crimes)"
   ]
  },
  {
   "cell_type": "code",
   "execution_count": 14,
   "metadata": {},
   "outputs": [],
   "source": [
    "sentences = load_text('docs/text3.txt')"
   ]
  },
  {
   "cell_type": "code",
   "execution_count": 15,
   "metadata": {},
   "outputs": [
    {
     "name": "stdout",
     "output_type": "stream",
     "text": [
      "['On February 1, 2021, Judge Denise L. Cote of the U.S. District Court for the Southern District of New York entered a partial judgment against David Hu, the co-founder and chief investment officer of International Investment Group (IIG), a formerly registered investment adviser, enjoining Hu from violating the antifraud provisions of the federal securities laws.', \"The Commission revoked IIG's registration in November 2019.\", \"According to the SEC's complaint, from October 2013, Hu orchestrated multiple frauds on IIG's investment advisory clients.\", \"As alleged, Hu grossly overvalued the assets in IIG's flagship hedge fund, resulting in the fund paying inflated fees to IIG, some of which went to Hu personally.\", 'In addition, through IIG, Hu allegedly sold at least $60 million in fake trade finance loans to other investors and used the proceeds to pay the redemption requests of earlier investors and other liabilities.', 'The complaint alleges that Hu deceived IIG clients into purchasing the purported trade finance loans by directing others at IIG to create and provide to the clients fake loan documentation to substantiate the non-existent loans, including fake promissory notes and a forged credit agreement.', 'The complaint, filed on July 17, 2020, charges Hu with violating Section 17(a) of the Securities Act of 1933, Section 10(b) of the Securities Exchange Act of 1934 and Rule 10b-5 thereunder, and Sections 206(1) and 206(2) of the Investment Advisers Act of 1940.', 'Hu consented to a bifurcated settlement, agreeing to be permanently enjoined from violations of the charged provisions with monetary relief in an amount to be determined by the court at a later date upon motion of the Commission.', \"The SEC previously charged IIG with fraud on November 21, 2019, and revoked IIG's registration as an investment adviser on November 26, 2019.\", 'On March 30, 2020, the SEC obtained a final judgment on consent enjoining IIG from violating the antifraud provisions of the federal securities laws and requiring IIG to pay more than $35 million in disgorgement and prejudgment interest.']\n"
     ]
    }
   ],
   "source": [
    "print(sentences)"
   ]
  },
  {
   "cell_type": "code",
   "execution_count": 35,
   "metadata": {},
   "outputs": [
    {
     "name": "stdout",
     "output_type": "stream",
     "text": [
      "On February 1, 2021, Judge Denise L. Cote of the U.S. District Court for the Southern District of New York entered a partial judgment against David Hu, the co-founder and chief investment officer of International Investment Group (IIG), a formerly registered investment adviser, enjoining Hu from violating the antifraud provisions of the federal securities laws.\n",
      "Similarity:  0.11581772523949795\n",
      "The Commission revoked IIG's registration in November 2019.\n",
      "Similarity:  0.11872914304500475\n",
      "According to the SEC's complaint, from October 2013, Hu orchestrated multiple frauds on IIG's investment advisory clients.\n",
      "Similarity:  0.14499103457880874\n",
      "As alleged, Hu grossly overvalued the assets in IIG's flagship hedge fund, resulting in the fund paying inflated fees to IIG, some of which went to Hu personally.\n",
      "Similarity:  0.14206409622388924\n",
      "In addition, through IIG, Hu allegedly sold at least $60 million in fake trade finance loans to other investors and used the proceeds to pay the redemption requests of earlier investors and other liabilities.\n",
      "Similarity:  0.12761205503123985\n",
      "The complaint alleges that Hu deceived IIG clients into purchasing the purported trade finance loans by directing others at IIG to create and provide to the clients fake loan documentation to substantiate the non-existent loans, including fake promissory notes and a forged credit agreement.\n",
      "Similarity:  0.14661716443106912\n",
      "The complaint, filed on July 17, 2020, charges Hu with violating Section 17(a) of the Securities Act of 1933, Section 10(b) of the Securities Exchange Act of 1934 and Rule 10b-5 thereunder, and Sections 206(1) and 206(2) of the Investment Advisers Act of 1940.\n",
      "Similarity:  0.03495488821977146\n",
      "Hu consented to a bifurcated settlement, agreeing to be permanently enjoined from violations of the charged provisions with monetary relief in an amount to be determined by the court at a later date upon motion of the Commission.\n",
      "Similarity:  0.14661716443106912\n",
      "The SEC previously charged IIG with fraud on November 21, 2019, and revoked IIG's registration as an investment adviser on November 26, 2019.\n",
      "Similarity:  0.14206409622388924\n",
      "On March 30, 2020, the SEC obtained a final judgment on consent enjoining IIG from violating the antifraud provisions of the federal securities laws and requiring IIG to pay more than $35 million in disgorgement and prejudgment interest.\n",
      "Similarity:  0.12761205503123985\n"
     ]
    }
   ],
   "source": [
    "from nltk.corpus import stopwords \n",
    "from nltk.tokenize import word_tokenize \n",
    "\n",
    "stop_words = set(stopwords.words('english'))  \n",
    "\n",
    "for sent in sentences:\n",
    "    print(sent)\n",
    "    word_tokens = word_tokenize(sent) \n",
    "    f_sent = [word for word in word_tokens if not word in stop_words]\n",
    "    #print(f_sent)\n",
    "    final = ''\n",
    "    for word in sent:\n",
    "        if(word in f_sent):\n",
    "            final += (word + ' ')\n",
    "    cnt=0\n",
    "    res=0\n",
    "    for crime in crimes:\n",
    "        token1 = nlp(final)\n",
    "        token2 = nlp(crime)\n",
    "        #print(token1.similarity(token2), crime)\n",
    "        res+=token1.similarity(token2)\n",
    "        cnt+=1\n",
    "    print('Similarity: ', res/cnt)"
   ]
  },
  {
   "cell_type": "code",
   "execution_count": null,
   "metadata": {},
   "outputs": [],
   "source": []
  }
 ],
 "metadata": {
  "kernelspec": {
   "display_name": "Python 3",
   "language": "python",
   "name": "python3"
  },
  "language_info": {
   "codemirror_mode": {
    "name": "ipython",
    "version": 3
   },
   "file_extension": ".py",
   "mimetype": "text/x-python",
   "name": "python",
   "nbconvert_exporter": "python",
   "pygments_lexer": "ipython3",
   "version": "3.8.5"
  }
 },
 "nbformat": 4,
 "nbformat_minor": 4
}
