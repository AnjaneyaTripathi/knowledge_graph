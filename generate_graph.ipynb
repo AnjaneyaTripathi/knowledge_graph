{
 "cells": [
  {
   "cell_type": "code",
   "execution_count": 4,
   "metadata": {},
   "outputs": [],
   "source": [
    "import pandas as pd\n",
    "import networkx as nx"
   ]
  },
  {
   "cell_type": "code",
   "execution_count": 2,
   "metadata": {},
   "outputs": [],
   "source": [
    "data = pd.read_csv('data.csv')"
   ]
  },
  {
   "cell_type": "code",
   "execution_count": 11,
   "metadata": {},
   "outputs": [
    {
     "data": {
      "text/html": [
       "<div>\n",
       "<style scoped>\n",
       "    .dataframe tbody tr th:only-of-type {\n",
       "        vertical-align: middle;\n",
       "    }\n",
       "\n",
       "    .dataframe tbody tr th {\n",
       "        vertical-align: top;\n",
       "    }\n",
       "\n",
       "    .dataframe thead th {\n",
       "        text-align: right;\n",
       "    }\n",
       "</style>\n",
       "<table border=\"1\" class=\"dataframe\">\n",
       "  <thead>\n",
       "    <tr style=\"text-align: right;\">\n",
       "      <th></th>\n",
       "      <th>Text</th>\n",
       "      <th>Crimes</th>\n",
       "      <th>Violations</th>\n",
       "      <th>Violators</th>\n",
       "      <th>Action Taken</th>\n",
       "    </tr>\n",
       "  </thead>\n",
       "  <tbody>\n",
       "    <tr>\n",
       "      <th>0</th>\n",
       "      <td>sec charges at&amp;t and three executives with sel...</td>\n",
       "      <td>[]</td>\n",
       "      <td>['violations of the disclosure provisions of S...</td>\n",
       "      <td>['at&amp;t, inc., et al.']</td>\n",
       "      <td>['the complaint seeks permanent injunctive rel...</td>\n",
       "    </tr>\n",
       "    <tr>\n",
       "      <th>1</th>\n",
       "      <td>u.s. securities and exchange commission\\n\\nlit...</td>\n",
       "      <td>['Insider Trading', 'Fraud']</td>\n",
       "      <td>['violating Section 10(b) of the securities ex...</td>\n",
       "      <td>['mitchel s. guttenberg, erik r. franklin, dav...</td>\n",
       "      <td>[]</td>\n",
       "    </tr>\n",
       "    <tr>\n",
       "      <th>2</th>\n",
       "      <td>u.s. securities and exchange commission\\n\\nlit...</td>\n",
       "      <td>['Insider Trading']</td>\n",
       "      <td>['violating Sections 10(b) and 14(e) of the se...</td>\n",
       "      <td>['dr. bobby v. khan, civil cas']</td>\n",
       "      <td>[\"the commission seeks an order permanently en...</td>\n",
       "    </tr>\n",
       "    <tr>\n",
       "      <th>3</th>\n",
       "      <td>\\t\\nu.s. securities and exchange commission\\n\\...</td>\n",
       "      <td>['Insider Trading']</td>\n",
       "      <td>['violated Sections 10(b) and 14(e) of the sec...</td>\n",
       "      <td>['matthew h. kluger and garrett d. bauer, cas']</td>\n",
       "      <td>[]</td>\n",
       "    </tr>\n",
       "    <tr>\n",
       "      <th>4</th>\n",
       "      <td>\\t\\nu.s. securities and exchange commission\\n\\...</td>\n",
       "      <td>['Insider Trading']</td>\n",
       "      <td>['violations of Section 10(b) of the securitie...</td>\n",
       "      <td>[]</td>\n",
       "      <td>['without admitting or denying the allegations...</td>\n",
       "    </tr>\n",
       "  </tbody>\n",
       "</table>\n",
       "</div>"
      ],
      "text/plain": [
       "                                                Text  \\\n",
       "0  sec charges at&t and three executives with sel...   \n",
       "1  u.s. securities and exchange commission\\n\\nlit...   \n",
       "2  u.s. securities and exchange commission\\n\\nlit...   \n",
       "3  \\t\\nu.s. securities and exchange commission\\n\\...   \n",
       "4  \\t\\nu.s. securities and exchange commission\\n\\...   \n",
       "\n",
       "                         Crimes  \\\n",
       "0                            []   \n",
       "1  ['Insider Trading', 'Fraud']   \n",
       "2           ['Insider Trading']   \n",
       "3           ['Insider Trading']   \n",
       "4           ['Insider Trading']   \n",
       "\n",
       "                                          Violations  \\\n",
       "0  ['violations of the disclosure provisions of S...   \n",
       "1  ['violating Section 10(b) of the securities ex...   \n",
       "2  ['violating Sections 10(b) and 14(e) of the se...   \n",
       "3  ['violated Sections 10(b) and 14(e) of the sec...   \n",
       "4  ['violations of Section 10(b) of the securitie...   \n",
       "\n",
       "                                           Violators  \\\n",
       "0                             ['at&t, inc., et al.']   \n",
       "1  ['mitchel s. guttenberg, erik r. franklin, dav...   \n",
       "2                   ['dr. bobby v. khan, civil cas']   \n",
       "3    ['matthew h. kluger and garrett d. bauer, cas']   \n",
       "4                                                 []   \n",
       "\n",
       "                                        Action Taken  \n",
       "0  ['the complaint seeks permanent injunctive rel...  \n",
       "1                                                 []  \n",
       "2  [\"the commission seeks an order permanently en...  \n",
       "3                                                 []  \n",
       "4  ['without admitting or denying the allegations...  "
      ]
     },
     "execution_count": 11,
     "metadata": {},
     "output_type": "execute_result"
    }
   ],
   "source": [
    "data.head()"
   ]
  },
  {
   "cell_type": "code",
   "execution_count": 6,
   "metadata": {},
   "outputs": [],
   "source": []
  },
  {
   "cell_type": "code",
   "execution_count": 22,
   "metadata": {},
   "outputs": [
    {
     "ename": "AttributeError",
     "evalue": "'str' object has no attribute 'dtype'",
     "output_type": "error",
     "traceback": [
      "\u001b[0;31m---------------------------------------------------------------------------\u001b[0m",
      "\u001b[0;31mAttributeError\u001b[0m                            Traceback (most recent call last)",
      "\u001b[0;32m<ipython-input-22-2daf712ff7fc>\u001b[0m in \u001b[0;36m<module>\u001b[0;34m\u001b[0m\n\u001b[1;32m      2\u001b[0m \u001b[0;32mfor\u001b[0m \u001b[0mi\u001b[0m \u001b[0;32min\u001b[0m \u001b[0mrange\u001b[0m\u001b[0;34m(\u001b[0m\u001b[0;36m1\u001b[0m\u001b[0;34m)\u001b[0m\u001b[0;34m:\u001b[0m\u001b[0;34m\u001b[0m\u001b[0;34m\u001b[0m\u001b[0m\n\u001b[1;32m      3\u001b[0m     \u001b[0mcrimes\u001b[0m \u001b[0;34m=\u001b[0m \u001b[0mdata\u001b[0m\u001b[0;34m.\u001b[0m\u001b[0miloc\u001b[0m\u001b[0;34m[\u001b[0m\u001b[0;36m2\u001b[0m\u001b[0;34m,\u001b[0m \u001b[0;36m1\u001b[0m\u001b[0;34m]\u001b[0m\u001b[0;34m\u001b[0m\u001b[0;34m\u001b[0m\u001b[0m\n\u001b[0;32m----> 4\u001b[0;31m     \u001b[0mprint\u001b[0m\u001b[0;34m(\u001b[0m\u001b[0mcrimes\u001b[0m\u001b[0;34m.\u001b[0m\u001b[0mdtype\u001b[0m\u001b[0;34m(\u001b[0m\u001b[0;34m)\u001b[0m\u001b[0;34m)\u001b[0m\u001b[0;34m\u001b[0m\u001b[0;34m\u001b[0m\u001b[0m\n\u001b[0m\u001b[1;32m      5\u001b[0m     \u001b[0mviolations\u001b[0m \u001b[0;34m=\u001b[0m \u001b[0mdata\u001b[0m\u001b[0;34m.\u001b[0m\u001b[0miloc\u001b[0m\u001b[0;34m[\u001b[0m\u001b[0;36m2\u001b[0m\u001b[0;34m,\u001b[0m \u001b[0;36m2\u001b[0m\u001b[0;34m]\u001b[0m\u001b[0;34m\u001b[0m\u001b[0;34m\u001b[0m\u001b[0m\n\u001b[1;32m      6\u001b[0m     \u001b[0mviolators\u001b[0m \u001b[0;34m=\u001b[0m \u001b[0mdata\u001b[0m\u001b[0;34m.\u001b[0m\u001b[0miloc\u001b[0m\u001b[0;34m[\u001b[0m\u001b[0;36m2\u001b[0m\u001b[0;34m,\u001b[0m \u001b[0;36m3\u001b[0m\u001b[0;34m]\u001b[0m\u001b[0;34m\u001b[0m\u001b[0;34m\u001b[0m\u001b[0m\n",
      "\u001b[0;31mAttributeError\u001b[0m: 'str' object has no attribute 'dtype'"
     ]
    }
   ],
   "source": [
    "G = nx.Graph()\n",
    "for i in range(1):\n",
    "    crimes = data.iloc[2, 1]\n",
    "    print(crimes.dtype())\n",
    "    violations = data.iloc[2, 2]\n",
    "    violators = data.iloc[2, 3]\n",
    "    action = data.iloc[2, 4]\n",
    "    for i in range(len(crimes)):\n",
    "        print(crimes[i])\n",
    "        G.add_node(crimes[i])\n",
    "        for j in range(len(violators)):\n",
    "            G.add_node(violators[j])\n",
    "            G.add_edge(crimes[i], violators[j])\n",
    "        nx.draw(G)\n",
    "    print(crimes, violations, violators, action)"
   ]
  },
  {
   "cell_type": "code",
   "execution_count": null,
   "metadata": {},
   "outputs": [],
   "source": []
  }
 ],
 "metadata": {
  "kernelspec": {
   "display_name": "Python 3",
   "language": "python",
   "name": "python3"
  },
  "language_info": {
   "codemirror_mode": {
    "name": "ipython",
    "version": 3
   },
   "file_extension": ".py",
   "mimetype": "text/x-python",
   "name": "python",
   "nbconvert_exporter": "python",
   "pygments_lexer": "ipython3",
   "version": "3.8.5"
  }
 },
 "nbformat": 4,
 "nbformat_minor": 4
}
