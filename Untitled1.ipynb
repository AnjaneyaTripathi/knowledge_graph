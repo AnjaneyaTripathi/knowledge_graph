{
 "cells": [
  {
   "cell_type": "code",
   "execution_count": 7,
   "metadata": {},
   "outputs": [],
   "source": [
    "def ascii_conversion(text):\n",
    "    code = []\n",
    "    for i in range(len(text)):\n",
    "        code.append(ord(text[i]))\n",
    "    return code"
   ]
  },
  {
   "cell_type": "code",
   "execution_count": 69,
   "metadata": {},
   "outputs": [],
   "source": [
    "key = 'God is Great'\n",
    "pt = 'A picture is worth 1000 words'\n",
    "ct = ''\n",
    "s = []\n",
    "ks = []\n",
    "\n",
    "for i in range(256):\n",
    "    s.append(i)"
   ]
  },
  {
   "cell_type": "code",
   "execution_count": 70,
   "metadata": {},
   "outputs": [],
   "source": [
    "keycode = ascii_conversion(key)\n",
    "ptcode = ascii_conversion(pt)"
   ]
  },
  {
   "cell_type": "code",
   "execution_count": 71,
   "metadata": {},
   "outputs": [],
   "source": [
    "k = []\n",
    "\n",
    "for i in range(256):\n",
    "    k.append(keycode[i%len(key)])"
   ]
  },
  {
   "cell_type": "code",
   "execution_count": 72,
   "metadata": {},
   "outputs": [
    {
     "name": "stdout",
     "output_type": "stream",
     "text": [
      "[71, 111, 100, 32, 105, 115, 32, 71, 114, 101, 97, 116, 71, 111, 100, 32, 105, 115, 32, 71, 114, 101, 97, 116, 71, 111, 100, 32, 105, 115, 32, 71, 114, 101, 97, 116, 71, 111, 100, 32, 105, 115, 32, 71, 114, 101, 97, 116, 71, 111, 100, 32, 105, 115, 32, 71, 114, 101, 97, 116, 71, 111, 100, 32, 105, 115, 32, 71, 114, 101, 97, 116, 71, 111, 100, 32, 105, 115, 32, 71, 114, 101, 97, 116, 71, 111, 100, 32, 105, 115, 32, 71, 114, 101, 97, 116, 71, 111, 100, 32, 105, 115, 32, 71, 114, 101, 97, 116, 71, 111, 100, 32, 105, 115, 32, 71, 114, 101, 97, 116, 71, 111, 100, 32, 105, 115, 32, 71, 114, 101, 97, 116, 71, 111, 100, 32, 105, 115, 32, 71, 114, 101, 97, 116, 71, 111, 100, 32, 105, 115, 32, 71, 114, 101, 97, 116, 71, 111, 100, 32, 105, 115, 32, 71, 114, 101, 97, 116, 71, 111, 100, 32, 105, 115, 32, 71, 114, 101, 97, 116, 71, 111, 100, 32, 105, 115, 32, 71, 114, 101, 97, 116, 71, 111, 100, 32, 105, 115, 32, 71, 114, 101, 97, 116, 71, 111, 100, 32, 105, 115, 32, 71, 114, 101, 97, 116, 71, 111, 100, 32, 105, 115, 32, 71, 114, 101, 97, 116, 71, 111, 100, 32, 105, 115, 32, 71, 114, 101, 97, 116, 71, 111, 100, 32, 105, 115, 32, 71, 114, 101, 97, 116, 71, 111, 100, 32]\n"
     ]
    }
   ],
   "source": [
    "print(k)"
   ]
  },
  {
   "cell_type": "code",
   "execution_count": 73,
   "metadata": {},
   "outputs": [],
   "source": [
    "j = 0\n",
    "\n",
    "for i in range(256):\n",
    "    j = (j + s[i] + k[i]) % 256\n",
    "    temp = s[i]\n",
    "    s[i] = s[j]\n",
    "    s[j] = temp"
   ]
  },
  {
   "cell_type": "code",
   "execution_count": 74,
   "metadata": {},
   "outputs": [
    {
     "name": "stdout",
     "output_type": "stream",
     "text": [
      "[71, 183, 156, 119, 173, 145, 75, 153, 19, 129, 9, 107, 40, 58, 195, 3, 154, 96, 47, 89, 223, 31, 79, 91, 46, 66, 192, 251, 199, 245, 80, 155, 213, 53, 52, 94, 54, 170, 34, 244, 250, 14, 99, 237, 191, 222, 146, 86, 50, 61, 63, 38, 72, 95, 7, 157, 0, 229, 83, 111, 141, 210, 22, 254, 194, 124, 45, 109, 35, 165, 93, 200, 87, 219, 140, 227, 166, 88, 16, 92, 51, 212, 118, 160, 198, 185, 204, 214, 241, 125, 163, 236, 208, 100, 255, 106, 216, 105, 167, 242, 231, 207, 220, 175, 98, 69, 101, 228, 112, 8, 67, 30, 136, 252, 243, 122, 28, 135, 64, 181, 121, 149, 4, 24, 159, 130, 49, 230, 147, 226, 179, 5, 113, 126, 18, 33, 20, 176, 10, 152, 148, 26, 217, 116, 37, 182, 27, 186, 189, 115, 143, 62, 144, 110, 84, 48, 2, 41, 73, 171, 97, 56, 215, 120, 29, 131, 55, 190, 206, 12, 117, 77, 184, 13, 225, 108, 139, 132, 246, 103, 44, 232, 76, 162, 168, 23, 59, 85, 158, 193, 249, 240, 133, 74, 6, 78, 114, 142, 172, 70, 187, 17, 196, 188, 218, 169, 57, 15, 233, 137, 43, 203, 127, 60, 164, 32, 128, 138, 224, 177, 36, 253, 209, 202, 221, 11, 134, 68, 180, 25, 42, 90, 238, 211, 82, 161, 21, 197, 65, 239, 248, 234, 201, 178, 123, 39, 1, 81, 247, 205, 104, 150, 174, 235, 102, 151]\n"
     ]
    }
   ],
   "source": [
    "print(s)"
   ]
  },
  {
   "cell_type": "code",
   "execution_count": 75,
   "metadata": {},
   "outputs": [],
   "source": [
    "j = 0\n",
    "ks = []\n",
    "for i in range(len(pt)):\n",
    "    j = (j + s[i+1]) % 256\n",
    "    temp = s[i+1]\n",
    "    s[i+1] = s[j]\n",
    "    s[j] = temp\n",
    "    t = (s[i+1] + s[j]) % 256\n",
    "    ks.append(s[t])"
   ]
  },
  {
   "cell_type": "code",
   "execution_count": 76,
   "metadata": {},
   "outputs": [
    {
     "name": "stdout",
     "output_type": "stream",
     "text": [
      "[125, 141, 111, 167, 29, 90, 225, 89, 90, 80, 255, 159, 23, 162, 237, 134, 245, 145, 213, 135, 202, 96, 169, 81, 36, 101, 243, 114, 81]\n"
     ]
    }
   ],
   "source": [
    "print(ks)"
   ]
  },
  {
   "cell_type": "code",
   "execution_count": 77,
   "metadata": {},
   "outputs": [],
   "source": [
    "ctcode = []\n",
    "\n",
    "for i in range(len(pt)):\n",
    "    code = hex(ptcode[i] ^ ks[i])[2:4]\n",
    "    if(len(code) == 1):\n",
    "        code = '0' + code\n",
    "    ctcode.append(code)"
   ]
  },
  {
   "cell_type": "code",
   "execution_count": 78,
   "metadata": {},
   "outputs": [
    {
     "name": "stdout",
     "output_type": "stream",
     "text": [
      "['3c', 'ad', '1f', 'ce', '7e', '2e', '94', '2b', '3f', '70', '96', 'ec', '37', 'd5', '82', 'f4', '81', 'f9', 'f5', 'b6', 'fa', '50', '99', '71', '53', '0a', '81', '16', '22']\n"
     ]
    }
   ],
   "source": [
    "print(ctcode)"
   ]
  },
  {
   "cell_type": "code",
   "execution_count": 79,
   "metadata": {},
   "outputs": [],
   "source": [
    "ct = ''\n",
    "\n",
    "for i in range(len(ctcode)):\n",
    "    ct += ctcode[i][0].capitalize()\n",
    "    ct += ctcode[i][1].capitalize()"
   ]
  },
  {
   "cell_type": "code",
   "execution_count": 80,
   "metadata": {},
   "outputs": [
    {
     "name": "stdout",
     "output_type": "stream",
     "text": [
      "3CAD1FCE7E2E942B3F7096EC37D582F481F9F5B6FA509971530A811622\n"
     ]
    }
   ],
   "source": [
    "print((ct))"
   ]
  },
  {
   "cell_type": "code",
   "execution_count": 82,
   "metadata": {},
   "outputs": [],
   "source": [
    "verify = '3CAD1FCE7E2E942B3F7096EC37D582F481F9F5B6FA509971530A811622'\n",
    "\n",
    "for i in range(len(ct)):\n",
    "    if(ct[i] != verify[i]):\n",
    "        print(ct[i], verify[i])"
   ]
  },
  {
   "cell_type": "code",
   "execution_count": null,
   "metadata": {},
   "outputs": [],
   "source": []
  }
 ],
 "metadata": {
  "kernelspec": {
   "display_name": "Python 3",
   "language": "python",
   "name": "python3"
  },
  "language_info": {
   "codemirror_mode": {
    "name": "ipython",
    "version": 3
   },
   "file_extension": ".py",
   "mimetype": "text/x-python",
   "name": "python",
   "nbconvert_exporter": "python",
   "pygments_lexer": "ipython3",
   "version": "3.8.5"
  }
 },
 "nbformat": 4,
 "nbformat_minor": 4
}
