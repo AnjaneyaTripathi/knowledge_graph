{
 "cells": [
  {
   "cell_type": "code",
   "execution_count": 1,
   "metadata": {},
   "outputs": [],
   "source": [
    "import gensim\n",
    "from gensim.utils import simple_preprocess\n",
    "from gensim.parsing.preprocessing import STOPWORDS\n",
    "from nltk.stem import WordNetLemmatizer, SnowballStemmer\n",
    "from nltk.stem.porter import *\n",
    "import numpy as np\n",
    "import nltk\n",
    "import networkx as nx\n",
    "import matplotlib.pyplot as plt\n",
    "from nltk.tokenize import sent_tokenize\n",
    "\n",
    "%matplotlib inline"
   ]
  },
  {
   "cell_type": "code",
   "execution_count": 2,
   "metadata": {},
   "outputs": [
    {
     "name": "stderr",
     "output_type": "stream",
     "text": [
      "[nltk_data] Downloading package wordnet to\n",
      "[nltk_data]     /Users/anjaneyatripathi/nltk_data...\n",
      "[nltk_data]   Package wordnet is already up-to-date!\n",
      "[nltk_data] Downloading package punkt to\n",
      "[nltk_data]     /Users/anjaneyatripathi/nltk_data...\n",
      "[nltk_data]   Package punkt is already up-to-date!\n"
     ]
    }
   ],
   "source": [
    "nltk.download('wordnet')\n",
    "nltk.download('punkt')\n",
    "stemmer = SnowballStemmer(\"english\")"
   ]
  },
  {
   "cell_type": "code",
   "execution_count": 3,
   "metadata": {},
   "outputs": [],
   "source": [
    "def load_text(file_name):\n",
    "    \n",
    "    with open(file_name, 'r') as file:\n",
    "        text = file.read()\n",
    "        \n",
    "    sentences = sent_tokenize(text)\n",
    "    \n",
    "    return sentences"
   ]
  },
  {
   "cell_type": "code",
   "execution_count": 4,
   "metadata": {},
   "outputs": [],
   "source": [
    "def lemmatize_stemming(text):\n",
    "    return stemmer.stem(WordNetLemmatizer().lemmatize(text, pos='v'))\n",
    "\n",
    "def preprocess(text):\n",
    "    result=[]\n",
    "    for token in gensim.utils.simple_preprocess(text) :\n",
    "        if token not in gensim.parsing.preprocessing.STOPWORDS and len(token) > 3:\n",
    "            result.append(lemmatize_stemming(token))\n",
    "            \n",
    "    return result"
   ]
  },
  {
   "cell_type": "code",
   "execution_count": 5,
   "metadata": {},
   "outputs": [],
   "source": [
    "def create_bow_dictionary(sentences):\n",
    "    \n",
    "    # preprocessing the sentences by stemming them\n",
    "    processed_docs = []\n",
    "    for doc in sentences:\n",
    "        processed_docs.append(preprocess(doc))\n",
    "        \n",
    "    # forming the dictionary\n",
    "    dictionary = gensim.corpora.Dictionary(processed_docs)\n",
    "    \n",
    "    # creating the BOWs \n",
    "    bow_corpus = [dictionary.doc2bow(doc) for doc in processed_docs]\n",
    "    \n",
    "    return dictionary, bow_corpus"
   ]
  },
  {
   "cell_type": "code",
   "execution_count": 6,
   "metadata": {},
   "outputs": [],
   "source": [
    "# creating the LDA model\n",
    "def create_model(topics, bow_corpus, dictionary):\n",
    "    lda_model = gensim.models.LdaMulticore(bow_corpus, num_topics = topics, id2word = dictionary, passes = 10, workers = 2)\n",
    "    \n",
    "    return lda_model"
   ]
  },
  {
   "cell_type": "code",
   "execution_count": 7,
   "metadata": {},
   "outputs": [],
   "source": [
    "# parsing the result of the topics generated\n",
    "def extract_keywords(s):\n",
    "    \n",
    "    words=[]\n",
    "    status=False\n",
    "    word=''\n",
    "    for ch in s:\n",
    "        if(ch=='\"'):\n",
    "            status = not status;\n",
    "        elif(ch=='+'):\n",
    "            status=False\n",
    "            words.append(word)\n",
    "            word=''\n",
    "        elif(status):\n",
    "            word+=ch\n",
    "    words.append(word)\n",
    "    \n",
    "    return words"
   ]
  },
  {
   "cell_type": "code",
   "execution_count": 8,
   "metadata": {},
   "outputs": [],
   "source": [
    "def classify_topics(topics, lda_model, sentences):\n",
    "\n",
    "    keyword_dict = {}\n",
    "\n",
    "    for i in range(topics):\n",
    "        keyword_dict[i] = extract_keywords(lda_model.print_topics(-1)[i][1])\n",
    "        \n",
    "    TOPICS = {}\n",
    "\n",
    "    for i in range(topics):\n",
    "        TOPICS[i] = []\n",
    "    \n",
    "    for sent in sentences:\n",
    "        processed = preprocess(sent)\n",
    "        occurences = [0] * topics\n",
    "        for word in processed:\n",
    "            for i in range(topics):\n",
    "                if(word in keyword_dict[i]):\n",
    "                    occurences[i]+=1\n",
    "        top_hit = max(occurences)\n",
    "        for i in range(topics):\n",
    "            if(occurences[i]==top_hit):\n",
    "                TOPICS[i].append(sent)\n",
    "    \n",
    "    return keyword_dict, TOPICS"
   ]
  },
  {
   "cell_type": "code",
   "execution_count": 16,
   "metadata": {},
   "outputs": [],
   "source": [
    "def get_topics(file_name, topics):\n",
    "    # enter the name of the file and the number of topics\n",
    "    sentences = load_text(file_name)\n",
    "\n",
    "    # create the dictionary and BOW corpus\n",
    "    dictionary, bow_corpus = create_bow_dictionary(sentences)\n",
    "\n",
    "    # create the LDA model\n",
    "    lda_model = create_model(topics, bow_corpus, dictionary)\n",
    "\n",
    "    # get the keywords of each topic, sentences in each topic\n",
    "    keyword_dict, TOPICS = classify_topics(topics, lda_model, sentences)\n",
    "\n",
    "    for i in range(topics):\n",
    "        print('Topic: ',i)\n",
    "        print(TOPICS[i])\n",
    "        \n",
    "    return TOPICS"
   ]
  },
  {
   "cell_type": "code",
   "execution_count": 23,
   "metadata": {},
   "outputs": [
    {
     "name": "stdout",
     "output_type": "stream",
     "text": [
      "Topic:  0\n",
      "['On February 1, 2021, Judge Denise L. Cote of the U.S. District Court for the Southern District of New York entered a partial judgment against David Hu, the co-founder and chief investment officer of International Investment Group (IIG), a formerly registered investment adviser, enjoining Hu from violating the antifraud provisions of the federal securities laws.', \"The Commission revoked IIG's registration in November 2019.\", 'The complaint, filed on July 17, 2020, charges Hu with violating Section 17(a) of the Securities Act of 1933, Section 10(b) of the Securities Exchange Act of 1934 and Rule 10b-5 thereunder, and Sections 206(1) and 206(2) of the Investment Advisers Act of 1940.', 'Hu consented to a bifurcated settlement, agreeing to be permanently enjoined from violations of the charged provisions with monetary relief in an amount to be determined by the court at a later date upon motion of the Commission.', 'On March 30, 2020, the SEC obtained a final judgment on consent enjoining IIG from violating the antifraud provisions of the federal securities laws and requiring IIG to pay more than $35 million in disgorgement and prejudgment interest.']\n",
      "Topic:  1\n",
      "[\"The Commission revoked IIG's registration in November 2019.\", \"According to the SEC's complaint, from October 2013, Hu orchestrated multiple frauds on IIG's investment advisory clients.\", \"As alleged, Hu grossly overvalued the assets in IIG's flagship hedge fund, resulting in the fund paying inflated fees to IIG, some of which went to Hu personally.\", 'In addition, through IIG, Hu allegedly sold at least $60 million in fake trade finance loans to other investors and used the proceeds to pay the redemption requests of earlier investors and other liabilities.', 'The complaint alleges that Hu deceived IIG clients into purchasing the purported trade finance loans by directing others at IIG to create and provide to the clients fake loan documentation to substantiate the non-existent loans, including fake promissory notes and a forged credit agreement.', \"The SEC previously charged IIG with fraud on November 21, 2019, and revoked IIG's registration as an investment adviser on November 26, 2019.\"]\n"
     ]
    },
    {
     "data": {
      "text/plain": [
       "{0: ['On February 1, 2021, Judge Denise L. Cote of the U.S. District Court for the Southern District of New York entered a partial judgment against David Hu, the co-founder and chief investment officer of International Investment Group (IIG), a formerly registered investment adviser, enjoining Hu from violating the antifraud provisions of the federal securities laws.',\n",
       "  \"The Commission revoked IIG's registration in November 2019.\",\n",
       "  'The complaint, filed on July 17, 2020, charges Hu with violating Section 17(a) of the Securities Act of 1933, Section 10(b) of the Securities Exchange Act of 1934 and Rule 10b-5 thereunder, and Sections 206(1) and 206(2) of the Investment Advisers Act of 1940.',\n",
       "  'Hu consented to a bifurcated settlement, agreeing to be permanently enjoined from violations of the charged provisions with monetary relief in an amount to be determined by the court at a later date upon motion of the Commission.',\n",
       "  'On March 30, 2020, the SEC obtained a final judgment on consent enjoining IIG from violating the antifraud provisions of the federal securities laws and requiring IIG to pay more than $35 million in disgorgement and prejudgment interest.'],\n",
       " 1: [\"The Commission revoked IIG's registration in November 2019.\",\n",
       "  \"According to the SEC's complaint, from October 2013, Hu orchestrated multiple frauds on IIG's investment advisory clients.\",\n",
       "  \"As alleged, Hu grossly overvalued the assets in IIG's flagship hedge fund, resulting in the fund paying inflated fees to IIG, some of which went to Hu personally.\",\n",
       "  'In addition, through IIG, Hu allegedly sold at least $60 million in fake trade finance loans to other investors and used the proceeds to pay the redemption requests of earlier investors and other liabilities.',\n",
       "  'The complaint alleges that Hu deceived IIG clients into purchasing the purported trade finance loans by directing others at IIG to create and provide to the clients fake loan documentation to substantiate the non-existent loans, including fake promissory notes and a forged credit agreement.',\n",
       "  \"The SEC previously charged IIG with fraud on November 21, 2019, and revoked IIG's registration as an investment adviser on November 26, 2019.\"]}"
      ]
     },
     "execution_count": 23,
     "metadata": {},
     "output_type": "execute_result"
    }
   ],
   "source": [
    "get_topics('text3.txt', 2)"
   ]
  },
  {
   "cell_type": "code",
   "execution_count": null,
   "metadata": {},
   "outputs": [],
   "source": []
  }
 ],
 "metadata": {
  "kernelspec": {
   "display_name": "Python 3",
   "language": "python",
   "name": "python3"
  },
  "language_info": {
   "codemirror_mode": {
    "name": "ipython",
    "version": 3
   },
   "file_extension": ".py",
   "mimetype": "text/x-python",
   "name": "python",
   "nbconvert_exporter": "python",
   "pygments_lexer": "ipython3",
   "version": "3.8.5"
  }
 },
 "nbformat": 4,
 "nbformat_minor": 4
}
