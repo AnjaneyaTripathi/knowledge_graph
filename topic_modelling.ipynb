{
 "cells": [
  {
   "cell_type": "code",
   "execution_count": 2,
   "metadata": {},
   "outputs": [],
   "source": [
    "import gensim\n",
    "from gensim.utils import simple_preprocess\n",
    "from gensim.parsing.preprocessing import STOPWORDS\n",
    "from nltk.stem import WordNetLemmatizer, SnowballStemmer\n",
    "from nltk.stem.porter import *\n",
    "import numpy as np\n",
    "import nltk\n",
    "import networkx as nx\n",
    "import matplotlib.pyplot as plt\n",
    "from nltk.tokenize import sent_tokenize\n",
    "\n",
    "%matplotlib inline"
   ]
  },
  {
   "cell_type": "code",
   "execution_count": 3,
   "metadata": {},
   "outputs": [
    {
     "name": "stderr",
     "output_type": "stream",
     "text": [
      "[nltk_data] Downloading package wordnet to\n",
      "[nltk_data]     /Users/anjaneyatripathi/nltk_data...\n",
      "[nltk_data]   Package wordnet is already up-to-date!\n",
      "[nltk_data] Downloading package punkt to\n",
      "[nltk_data]     /Users/anjaneyatripathi/nltk_data...\n",
      "[nltk_data]   Package punkt is already up-to-date!\n"
     ]
    }
   ],
   "source": [
    "nltk.download('wordnet')\n",
    "nltk.download('punkt')\n",
    "stemmer = SnowballStemmer(\"english\")"
   ]
  },
  {
   "cell_type": "code",
   "execution_count": 4,
   "metadata": {},
   "outputs": [],
   "source": [
    "def load_text(file_name):\n",
    "    \n",
    "    with open(file_name, 'r') as file:\n",
    "        text = file.read()\n",
    "        \n",
    "    sentences = sent_tokenize(text)\n",
    "    \n",
    "    return sentences"
   ]
  },
  {
   "cell_type": "code",
   "execution_count": 5,
   "metadata": {},
   "outputs": [],
   "source": [
    "def lemmatize_stemming(text):\n",
    "    return stemmer.stem(WordNetLemmatizer().lemmatize(text, pos='v'))\n",
    "\n",
    "def preprocess(text):\n",
    "    result=[]\n",
    "    for token in gensim.utils.simple_preprocess(text) :\n",
    "        if token not in gensim.parsing.preprocessing.STOPWORDS and len(token) > 3:\n",
    "            result.append(lemmatize_stemming(token))\n",
    "            \n",
    "    return result"
   ]
  },
  {
   "cell_type": "code",
   "execution_count": 6,
   "metadata": {},
   "outputs": [],
   "source": [
    "def create_bow_dictionary(sentences):\n",
    "    \n",
    "    # preprocessing the sentences by stemming them\n",
    "    processed_docs = []\n",
    "    for doc in sentences:\n",
    "        processed_docs.append(preprocess(doc))\n",
    "        \n",
    "    # forming the dictionary\n",
    "    dictionary = gensim.corpora.Dictionary(processed_docs)\n",
    "    \n",
    "    # creating the BOWs \n",
    "    bow_corpus = [dictionary.doc2bow(doc) for doc in processed_docs]\n",
    "    \n",
    "    return dictionary, bow_corpus"
   ]
  },
  {
   "cell_type": "code",
   "execution_count": 7,
   "metadata": {},
   "outputs": [],
   "source": [
    "# creating the LDA model\n",
    "def create_model(topics, bow_corpus, dictionary):\n",
    "    lda_model = gensim.models.LdaMulticore(bow_corpus, num_topics = topics, id2word = dictionary, passes = 10, workers = 2)\n",
    "    \n",
    "    return lda_model"
   ]
  },
  {
   "cell_type": "code",
   "execution_count": 8,
   "metadata": {},
   "outputs": [],
   "source": [
    "# parsing the result of the topics generated\n",
    "def extract_keywords(s):\n",
    "    \n",
    "    words=[]\n",
    "    status=False\n",
    "    word=''\n",
    "    for ch in s:\n",
    "        if(ch=='\"'):\n",
    "            status = not status;\n",
    "        elif(ch=='+'):\n",
    "            status=False\n",
    "            words.append(word)\n",
    "            word=''\n",
    "        elif(status):\n",
    "            word+=ch\n",
    "    words.append(word)\n",
    "    \n",
    "    return words"
   ]
  },
  {
   "cell_type": "code",
   "execution_count": 9,
   "metadata": {},
   "outputs": [],
   "source": [
    "def classify_topics(topics, lda_model, sentences):\n",
    "\n",
    "    keyword_dict = {}\n",
    "\n",
    "    for i in range(topics):\n",
    "        keyword_dict[i] = extract_keywords(lda_model.print_topics(-1)[i][1])\n",
    "        \n",
    "    TOPICS = {}\n",
    "\n",
    "    for i in range(topics):\n",
    "        TOPICS[i] = []\n",
    "    \n",
    "    for sent in sentences:\n",
    "        processed = preprocess(sent)\n",
    "        occurences = [0] * topics\n",
    "        for word in processed:\n",
    "            for i in range(topics):\n",
    "                if(word in keyword_dict[i]):\n",
    "                    occurences[i]+=1\n",
    "        top_hit = max(occurences)\n",
    "        for i in range(topics):\n",
    "            if(occurences[i]==top_hit):\n",
    "                TOPICS[i].append(sent)\n",
    "    \n",
    "    return keyword_dict, TOPICS"
   ]
  },
  {
   "cell_type": "code",
   "execution_count": 10,
   "metadata": {},
   "outputs": [],
   "source": [
    "def get_topics(file_name, topics):\n",
    "    # enter the name of the file and the number of topics\n",
    "    sentences = load_text(file_name)\n",
    "\n",
    "    # create the dictionary and BOW corpus\n",
    "    dictionary, bow_corpus = create_bow_dictionary(sentences)\n",
    "\n",
    "    # create the LDA model\n",
    "    lda_model = create_model(topics, bow_corpus, dictionary)\n",
    "\n",
    "    # get the keywords of each topic, sentences in each topic\n",
    "    keyword_dict, TOPICS = classify_topics(topics, lda_model, sentences)\n",
    "\n",
    "    for i in range(topics):\n",
    "        print('Topic: ',i)\n",
    "        print(TOPICS[i])\n",
    "        \n",
    "    return TOPICS"
   ]
  },
  {
   "cell_type": "code",
   "execution_count": 11,
   "metadata": {},
   "outputs": [
    {
     "name": "stdout",
     "output_type": "stream",
     "text": [
      "Topic:  0\n",
      "['The Securities and Exchange Commission today charged Arrayit Corporation, a Sunnyvale, California company, with making false and misleading statements about the development of a COVID-19 test, and with failing to file required financial reports.', \"The SEC also charged Arrayit's co-founder and Chief Executive Officer, Rene Schena, with making misrepresentations to investors about the financial reports, and for her role as a control person of the company.\", \"The SEC's complaint alleges that, in March and April 2020, Arrayit falsely stated to investors that it had developed a COVID-19 blood test.\", 'In fact, as alleged, at the time, Arrayit had not yet purchased materials needed to make a test.', 'The complaint further alleges that Arrayit falsely asserted to investors that it had submitted the test for emergency approval and that there was a high demand for the test.', 'Additionally, the complaint alleges that, between October 2018 and March 2019, Arrayit issued a series of false and misleading statements to investors, including in a shareholder letter prepared by Rene Schena, claiming that it was preparing to file delinquent periodic reports and financial statements for the first time since November 2015.', 'As alleged, Schena knew or was reckless in not knowing that these claims were untrue.', \"The complaint further charges Rene Schena with aiding and abetting Arrayit's violations and alleges that she is liable as a control person of Arrayit pursuant to Section 20(a) of the Exchange Act.\", 'Without admitting or denying the allegations in the complaint, Arrayit and Rene Schena agreed to settle with the Commission and to be enjoined from future violations of the charged provisions.', 'Rene Schena also agreed to a 3-year officer and director bar and to pay a $50,000 penalty.', 'The Commission previously filed charges against Mark Schena, the President and Chief Science Officer of Arrayit, for related conduct.']\n",
      "Topic:  1\n",
      "['The Securities and Exchange Commission today charged Arrayit Corporation, a Sunnyvale, California company, with making false and misleading statements about the development of a COVID-19 test, and with failing to file required financial reports.', \"The SEC's complaint, filed in the U.S. District Court for the Northern District of California, charges Arrayit with violating the antifraud provisions of Section 10(b) of the Securities Exchange Act of 1934 and Rule 10b-5 thereunder, and the reporting provisions of Section 13(a) of the Exchange Act and Rules 13a-1 and 13a-13 thereunder.\", 'The settlements are subject to court approval.', 'The Commission previously filed charges against Mark Schena, the President and Chief Science Officer of Arrayit, for related conduct.', 'That matter is currently pending in the U.S. District Court for the Northern District of California.']\n"
     ]
    },
    {
     "data": {
      "text/plain": [
       "{0: ['The Securities and Exchange Commission today charged Arrayit Corporation, a Sunnyvale, California company, with making false and misleading statements about the development of a COVID-19 test, and with failing to file required financial reports.',\n",
       "  \"The SEC also charged Arrayit's co-founder and Chief Executive Officer, Rene Schena, with making misrepresentations to investors about the financial reports, and for her role as a control person of the company.\",\n",
       "  \"The SEC's complaint alleges that, in March and April 2020, Arrayit falsely stated to investors that it had developed a COVID-19 blood test.\",\n",
       "  'In fact, as alleged, at the time, Arrayit had not yet purchased materials needed to make a test.',\n",
       "  'The complaint further alleges that Arrayit falsely asserted to investors that it had submitted the test for emergency approval and that there was a high demand for the test.',\n",
       "  'Additionally, the complaint alleges that, between October 2018 and March 2019, Arrayit issued a series of false and misleading statements to investors, including in a shareholder letter prepared by Rene Schena, claiming that it was preparing to file delinquent periodic reports and financial statements for the first time since November 2015.',\n",
       "  'As alleged, Schena knew or was reckless in not knowing that these claims were untrue.',\n",
       "  \"The complaint further charges Rene Schena with aiding and abetting Arrayit's violations and alleges that she is liable as a control person of Arrayit pursuant to Section 20(a) of the Exchange Act.\",\n",
       "  'Without admitting or denying the allegations in the complaint, Arrayit and Rene Schena agreed to settle with the Commission and to be enjoined from future violations of the charged provisions.',\n",
       "  'Rene Schena also agreed to a 3-year officer and director bar and to pay a $50,000 penalty.',\n",
       "  'The Commission previously filed charges against Mark Schena, the President and Chief Science Officer of Arrayit, for related conduct.'],\n",
       " 1: ['The Securities and Exchange Commission today charged Arrayit Corporation, a Sunnyvale, California company, with making false and misleading statements about the development of a COVID-19 test, and with failing to file required financial reports.',\n",
       "  \"The SEC's complaint, filed in the U.S. District Court for the Northern District of California, charges Arrayit with violating the antifraud provisions of Section 10(b) of the Securities Exchange Act of 1934 and Rule 10b-5 thereunder, and the reporting provisions of Section 13(a) of the Exchange Act and Rules 13a-1 and 13a-13 thereunder.\",\n",
       "  'The settlements are subject to court approval.',\n",
       "  'The Commission previously filed charges against Mark Schena, the President and Chief Science Officer of Arrayit, for related conduct.',\n",
       "  'That matter is currently pending in the U.S. District Court for the Northern District of California.']}"
      ]
     },
     "execution_count": 11,
     "metadata": {},
     "output_type": "execute_result"
    }
   ],
   "source": [
    "get_topics('docs/text2.txt', 2)"
   ]
  },
  {
   "cell_type": "code",
   "execution_count": null,
   "metadata": {},
   "outputs": [],
   "source": []
  }
 ],
 "metadata": {
  "kernelspec": {
   "display_name": "Python 3",
   "language": "python",
   "name": "python3"
  },
  "language_info": {
   "codemirror_mode": {
    "name": "ipython",
    "version": 3
   },
   "file_extension": ".py",
   "mimetype": "text/x-python",
   "name": "python",
   "nbconvert_exporter": "python",
   "pygments_lexer": "ipython3",
   "version": "3.8.5"
  }
 },
 "nbformat": 4,
 "nbformat_minor": 4
}
