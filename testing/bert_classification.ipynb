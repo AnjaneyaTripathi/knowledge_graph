{
 "cells": [
  {
   "cell_type": "code",
   "execution_count": 3,
   "metadata": {},
   "outputs": [
    {
     "name": "stdout",
     "output_type": "stream",
     "text": [
      "Collecting ktrain\n",
      "  Using cached ktrain-0.26.2.tar.gz (25.3 MB)\n",
      "Requirement already satisfied: scikit-learn==0.23.2 in /Users/anjaneyatripathi/opt/anaconda3/lib/python3.8/site-packages (from ktrain) (0.23.2)\n",
      "Requirement already satisfied: matplotlib>=3.0.0 in /Users/anjaneyatripathi/opt/anaconda3/lib/python3.8/site-packages (from ktrain) (3.3.2)\n",
      "Requirement already satisfied: pandas>=1.0.1 in /Users/anjaneyatripathi/opt/anaconda3/lib/python3.8/site-packages (from ktrain) (1.1.3)\n",
      "Collecting fastprogress>=0.1.21\n",
      "  Using cached fastprogress-1.0.0-py3-none-any.whl (12 kB)\n",
      "Requirement already satisfied: requests in /Users/anjaneyatripathi/opt/anaconda3/lib/python3.8/site-packages (from ktrain) (2.24.0)\n",
      "Requirement already satisfied: joblib in /Users/anjaneyatripathi/opt/anaconda3/lib/python3.8/site-packages (from ktrain) (0.17.0)\n",
      "Requirement already satisfied: packaging in /Users/anjaneyatripathi/opt/anaconda3/lib/python3.8/site-packages (from ktrain) (20.4)\n",
      "Requirement already satisfied: ipython in /Users/anjaneyatripathi/opt/anaconda3/lib/python3.8/site-packages (from ktrain) (7.19.0)\n",
      "Collecting langdetect\n",
      "  Using cached langdetect-1.0.8.tar.gz (981 kB)\n",
      "Collecting jieba\n",
      "  Using cached jieba-0.42.1.tar.gz (19.2 MB)\n",
      "Collecting cchardet\n",
      "  Downloading cchardet-2.1.7-cp38-cp38-macosx_10_9_x86_64.whl (124 kB)\n",
      "\u001b[K     |████████████████████████████████| 124 kB 1.8 MB/s eta 0:00:01\n",
      "\u001b[?25hCollecting syntok\n",
      "  Using cached syntok-1.3.1.tar.gz (23 kB)\n",
      "Collecting seqeval==0.0.19\n",
      "  Using cached seqeval-0.0.19.tar.gz (30 kB)\n",
      "Requirement already satisfied: transformers<=4.3.3,>=4.0.0 in /Users/anjaneyatripathi/opt/anaconda3/lib/python3.8/site-packages (from ktrain) (4.3.3)\n",
      "Requirement already satisfied: sentencepiece in /Users/anjaneyatripathi/opt/anaconda3/lib/python3.8/site-packages (from ktrain) (0.1.95)\n",
      "Collecting keras_bert>=0.86.0\n",
      "  Using cached keras-bert-0.86.0.tar.gz (26 kB)\n",
      "Requirement already satisfied: networkx>=2.3 in /Users/anjaneyatripathi/opt/anaconda3/lib/python3.8/site-packages (from ktrain) (2.5)\n",
      "Collecting whoosh\n",
      "  Using cached Whoosh-2.7.4-py2.py3-none-any.whl (468 kB)\n",
      "Requirement already satisfied: numpy>=1.13.3 in /Users/anjaneyatripathi/opt/anaconda3/lib/python3.8/site-packages (from scikit-learn==0.23.2->ktrain) (1.18.5)\n",
      "Requirement already satisfied: scipy>=0.19.1 in /Users/anjaneyatripathi/opt/anaconda3/lib/python3.8/site-packages (from scikit-learn==0.23.2->ktrain) (1.5.2)\n",
      "Requirement already satisfied: threadpoolctl>=2.0.0 in /Users/anjaneyatripathi/opt/anaconda3/lib/python3.8/site-packages (from scikit-learn==0.23.2->ktrain) (2.1.0)\n",
      "Requirement already satisfied: pillow>=6.2.0 in /Users/anjaneyatripathi/opt/anaconda3/lib/python3.8/site-packages (from matplotlib>=3.0.0->ktrain) (8.0.1)\n",
      "Requirement already satisfied: certifi>=2020.06.20 in /Users/anjaneyatripathi/opt/anaconda3/lib/python3.8/site-packages (from matplotlib>=3.0.0->ktrain) (2020.6.20)\n",
      "Requirement already satisfied: kiwisolver>=1.0.1 in /Users/anjaneyatripathi/opt/anaconda3/lib/python3.8/site-packages (from matplotlib>=3.0.0->ktrain) (1.3.0)\n",
      "Requirement already satisfied: pyparsing!=2.0.4,!=2.1.2,!=2.1.6,>=2.0.3 in /Users/anjaneyatripathi/opt/anaconda3/lib/python3.8/site-packages (from matplotlib>=3.0.0->ktrain) (2.4.7)\n",
      "Requirement already satisfied: python-dateutil>=2.1 in /Users/anjaneyatripathi/opt/anaconda3/lib/python3.8/site-packages (from matplotlib>=3.0.0->ktrain) (2.8.1)\n",
      "Requirement already satisfied: cycler>=0.10 in /Users/anjaneyatripathi/opt/anaconda3/lib/python3.8/site-packages (from matplotlib>=3.0.0->ktrain) (0.10.0)\n",
      "Requirement already satisfied: pytz>=2017.2 in /Users/anjaneyatripathi/opt/anaconda3/lib/python3.8/site-packages (from pandas>=1.0.1->ktrain) (2020.1)\n",
      "Requirement already satisfied: urllib3!=1.25.0,!=1.25.1,<1.26,>=1.21.1 in /Users/anjaneyatripathi/opt/anaconda3/lib/python3.8/site-packages (from requests->ktrain) (1.25.11)\n",
      "Requirement already satisfied: chardet<4,>=3.0.2 in /Users/anjaneyatripathi/opt/anaconda3/lib/python3.8/site-packages (from requests->ktrain) (3.0.4)\n",
      "Requirement already satisfied: idna<3,>=2.5 in /Users/anjaneyatripathi/opt/anaconda3/lib/python3.8/site-packages (from requests->ktrain) (2.10)\n",
      "Requirement already satisfied: six in /Users/anjaneyatripathi/opt/anaconda3/lib/python3.8/site-packages (from packaging->ktrain) (1.12.0)\n",
      "Requirement already satisfied: pygments in /Users/anjaneyatripathi/opt/anaconda3/lib/python3.8/site-packages (from ipython->ktrain) (2.7.2)\n",
      "Requirement already satisfied: decorator in /Users/anjaneyatripathi/opt/anaconda3/lib/python3.8/site-packages (from ipython->ktrain) (4.4.2)\n",
      "Requirement already satisfied: pexpect>4.3; sys_platform != \"win32\" in /Users/anjaneyatripathi/opt/anaconda3/lib/python3.8/site-packages (from ipython->ktrain) (4.8.0)\n",
      "Requirement already satisfied: prompt-toolkit!=3.0.0,!=3.0.1,<3.1.0,>=2.0.0 in /Users/anjaneyatripathi/opt/anaconda3/lib/python3.8/site-packages (from ipython->ktrain) (3.0.8)\n",
      "Requirement already satisfied: jedi>=0.10 in /Users/anjaneyatripathi/opt/anaconda3/lib/python3.8/site-packages (from ipython->ktrain) (0.17.1)\n",
      "Requirement already satisfied: appnope; sys_platform == \"darwin\" in /Users/anjaneyatripathi/opt/anaconda3/lib/python3.8/site-packages (from ipython->ktrain) (0.1.0)\n",
      "Requirement already satisfied: setuptools>=18.5 in /Users/anjaneyatripathi/opt/anaconda3/lib/python3.8/site-packages (from ipython->ktrain) (50.3.1.post20201107)\n",
      "Requirement already satisfied: backcall in /Users/anjaneyatripathi/opt/anaconda3/lib/python3.8/site-packages (from ipython->ktrain) (0.2.0)\n",
      "Requirement already satisfied: traitlets>=4.2 in /Users/anjaneyatripathi/opt/anaconda3/lib/python3.8/site-packages (from ipython->ktrain) (5.0.5)\n",
      "Requirement already satisfied: pickleshare in /Users/anjaneyatripathi/opt/anaconda3/lib/python3.8/site-packages (from ipython->ktrain) (0.7.5)\n",
      "Requirement already satisfied: regex in /Users/anjaneyatripathi/opt/anaconda3/lib/python3.8/site-packages (from syntok->ktrain) (2020.10.15)\n",
      "Requirement already satisfied: Keras>=2.2.4 in /Users/anjaneyatripathi/opt/anaconda3/lib/python3.8/site-packages (from seqeval==0.0.19->ktrain) (2.4.3)\n",
      "Requirement already satisfied: tqdm>=4.27 in /Users/anjaneyatripathi/opt/anaconda3/lib/python3.8/site-packages (from transformers<=4.3.3,>=4.0.0->ktrain) (4.49.0)\n",
      "Requirement already satisfied: tokenizers<0.11,>=0.10.1 in /Users/anjaneyatripathi/opt/anaconda3/lib/python3.8/site-packages (from transformers<=4.3.3,>=4.0.0->ktrain) (0.10.1)\n",
      "Requirement already satisfied: sacremoses in /Users/anjaneyatripathi/opt/anaconda3/lib/python3.8/site-packages (from transformers<=4.3.3,>=4.0.0->ktrain) (0.0.43)\n",
      "Requirement already satisfied: filelock in /Users/anjaneyatripathi/opt/anaconda3/lib/python3.8/site-packages (from transformers<=4.3.3,>=4.0.0->ktrain) (3.0.12)\n",
      "Collecting keras-transformer>=0.38.0\n",
      "  Using cached keras-transformer-0.38.0.tar.gz (11 kB)\n",
      "Requirement already satisfied: ptyprocess>=0.5 in /Users/anjaneyatripathi/opt/anaconda3/lib/python3.8/site-packages (from pexpect>4.3; sys_platform != \"win32\"->ipython->ktrain) (0.6.0)\n",
      "Requirement already satisfied: wcwidth in /Users/anjaneyatripathi/opt/anaconda3/lib/python3.8/site-packages (from prompt-toolkit!=3.0.0,!=3.0.1,<3.1.0,>=2.0.0->ipython->ktrain) (0.2.5)\n",
      "Requirement already satisfied: parso<0.8.0,>=0.7.0 in /Users/anjaneyatripathi/opt/anaconda3/lib/python3.8/site-packages (from jedi>=0.10->ipython->ktrain) (0.7.0)\n",
      "Requirement already satisfied: ipython-genutils in /Users/anjaneyatripathi/opt/anaconda3/lib/python3.8/site-packages (from traitlets>=4.2->ipython->ktrain) (0.2.0)\n",
      "Requirement already satisfied: pyyaml in /Users/anjaneyatripathi/opt/anaconda3/lib/python3.8/site-packages (from Keras>=2.2.4->seqeval==0.0.19->ktrain) (5.3.1)\n",
      "Requirement already satisfied: h5py in /Users/anjaneyatripathi/opt/anaconda3/lib/python3.8/site-packages (from Keras>=2.2.4->seqeval==0.0.19->ktrain) (2.10.0)\n",
      "Requirement already satisfied: click in /Users/anjaneyatripathi/opt/anaconda3/lib/python3.8/site-packages (from sacremoses->transformers<=4.3.3,>=4.0.0->ktrain) (7.1.2)\n",
      "Collecting keras-pos-embd>=0.11.0\n",
      "  Using cached keras-pos-embd-0.11.0.tar.gz (5.9 kB)\n",
      "Collecting keras-multi-head>=0.27.0\n",
      "  Using cached keras-multi-head-0.27.0.tar.gz (14 kB)\n"
     ]
    },
    {
     "name": "stdout",
     "output_type": "stream",
     "text": [
      "Collecting keras-layer-normalization>=0.14.0\n",
      "  Using cached keras-layer-normalization-0.14.0.tar.gz (4.3 kB)\n",
      "Collecting keras-position-wise-feed-forward>=0.6.0\n",
      "  Using cached keras-position-wise-feed-forward-0.6.0.tar.gz (4.4 kB)\n",
      "Collecting keras-embed-sim>=0.8.0\n",
      "  Using cached keras-embed-sim-0.8.0.tar.gz (4.1 kB)\n",
      "Collecting keras-self-attention==0.46.0\n",
      "  Using cached keras-self-attention-0.46.0.tar.gz (10 kB)\n",
      "Building wheels for collected packages: ktrain, langdetect, jieba, syntok, seqeval, keras-bert, keras-transformer, keras-pos-embd, keras-multi-head, keras-layer-normalization, keras-position-wise-feed-forward, keras-embed-sim, keras-self-attention\n",
      "  Building wheel for ktrain (setup.py) ... \u001b[?25ldone\n",
      "\u001b[?25h  Created wheel for ktrain: filename=ktrain-0.26.2-py3-none-any.whl size=25277795 sha256=c39c625aed0d17af0c43ce91cf28316d480399a501ac020cc32558b81da9c2e7\n",
      "  Stored in directory: /Users/anjaneyatripathi/Library/Caches/pip/wheels/4c/f7/35/131e358c44b65fe37ad182ee43b326988339603c7f7b0ebabe\n",
      "  Building wheel for langdetect (setup.py) ... \u001b[?25ldone\n",
      "\u001b[?25h  Created wheel for langdetect: filename=langdetect-1.0.8-py3-none-any.whl size=993191 sha256=79196a4e285a8efa6ec7f3abb13b09fca2520add9ee1b920f51fdc7f9f85e3fc\n",
      "  Stored in directory: /Users/anjaneyatripathi/Library/Caches/pip/wheels/1e/80/23/0a24928ec3a3906ff5027f38d2fea824e7e97f2ba7c83d91e3\n",
      "  Building wheel for jieba (setup.py) ... \u001b[?25ldone\n",
      "\u001b[?25h  Created wheel for jieba: filename=jieba-0.42.1-py3-none-any.whl size=19314478 sha256=a81a7d1352fdec78ea13dd0a1d5cedd3f563d2fd52b68fb7bdcfc175c2b9bf71\n",
      "  Stored in directory: /Users/anjaneyatripathi/Library/Caches/pip/wheels/ca/38/d8/dfdfe73bec1d12026b30cb7ce8da650f3f0ea2cf155ea018ae\n",
      "  Building wheel for syntok (setup.py) ... \u001b[?25ldone\n",
      "\u001b[?25h  Created wheel for syntok: filename=syntok-1.3.1-py3-none-any.whl size=20917 sha256=2306fc6e1dd6a647b18d997b910d25581958ea720c973501aa01a08b28363e51\n",
      "  Stored in directory: /Users/anjaneyatripathi/Library/Caches/pip/wheels/24/fd/23/26e82d723a0455d2cb72fe6af9dd1f0b2a9a1312829470b304\n",
      "  Building wheel for seqeval (setup.py) ... \u001b[?25ldone\n",
      "\u001b[?25h  Created wheel for seqeval: filename=seqeval-0.0.19-py3-none-any.whl size=9918 sha256=7c36974328c15c8817010e438c9c8ead398a99cb3345bb46a3aaa0a73cab5cf7\n",
      "  Stored in directory: /Users/anjaneyatripathi/Library/Caches/pip/wheels/58/e5/9e/2f94312239a6753267da6ceafe12d614603b78d308676df5e2\n",
      "  Building wheel for keras-bert (setup.py) ... \u001b[?25ldone\n",
      "\u001b[?25h  Created wheel for keras-bert: filename=keras_bert-0.86.0-py3-none-any.whl size=34143 sha256=08b25996427dbbbe60fd2856dbcc493edd6f8107e1f5f2eba663edc66923a6a1\n",
      "  Stored in directory: /Users/anjaneyatripathi/Library/Caches/pip/wheels/d8/69/eb/f4e8fda390b2599cde780fce1361c142367c00a8b98c82095e\n",
      "  Building wheel for keras-transformer (setup.py) ... \u001b[?25ldone\n",
      "\u001b[?25h  Created wheel for keras-transformer: filename=keras_transformer-0.38.0-py3-none-any.whl size=12941 sha256=8693ac36c62a18eaebbf7ec68629a999b15ba59eecc2ad6406675b5d89790cac\n",
      "  Stored in directory: /Users/anjaneyatripathi/Library/Caches/pip/wheels/a9/fb/18/ed70d4af00ce43f0ea7fbade107fe2f6e26bf27f24e08bfa7d\n",
      "  Building wheel for keras-pos-embd (setup.py) ... \u001b[?25ldone\n",
      "\u001b[?25h  Created wheel for keras-pos-embd: filename=keras_pos_embd-0.11.0-py3-none-any.whl size=7554 sha256=6b2b69eb0224347f8ef34af5c38475641160c9d115011af58836997d6713ce22\n",
      "  Stored in directory: /Users/anjaneyatripathi/Library/Caches/pip/wheels/ad/04/9a/b68e9d44d531ae48796ee329b1b93b7cb511162c71f2f6df03\n",
      "  Building wheel for keras-multi-head (setup.py) ... \u001b[?25ldone\n",
      "\u001b[?25h  Created wheel for keras-multi-head: filename=keras_multi_head-0.27.0-py3-none-any.whl size=15614 sha256=bcacab857b25eb2c54aebc67d628ae3cc880c96180b915ea174ae7a0d512445d\n",
      "  Stored in directory: /Users/anjaneyatripathi/Library/Caches/pip/wheels/89/78/6d/6eb993e6ee85006e88e7d2bf954d4ad4893a573e0dc664eaf2\n",
      "  Building wheel for keras-layer-normalization (setup.py) ... \u001b[?25ldone\n",
      "\u001b[?25h  Created wheel for keras-layer-normalization: filename=keras_layer_normalization-0.14.0-py3-none-any.whl size=5268 sha256=d03302ab54d806ef94f4a5f8ee79c9f3d86f92bb89ddd50141eb9195a53f812d\n",
      "  Stored in directory: /Users/anjaneyatripathi/Library/Caches/pip/wheels/02/6a/69/04961d77d187981dec03832babe68ac9c9f559950bb8f62907\n",
      "  Building wheel for keras-position-wise-feed-forward (setup.py) ... \u001b[?25ldone\n",
      "\u001b[?25h  Created wheel for keras-position-wise-feed-forward: filename=keras_position_wise_feed_forward-0.6.0-py3-none-any.whl size=5623 sha256=c699fe61af692be4e494eb804007eee0b074fd0cc6c0adb32fe33e117f3a2eab\n",
      "  Stored in directory: /Users/anjaneyatripathi/Library/Caches/pip/wheels/18/f0/90/017a1e331356edfb4c81f0d34cb241d67ab590c9fdb685ada0\n",
      "  Building wheel for keras-embed-sim (setup.py) ... \u001b[?25ldone\n",
      "\u001b[?25h  Created wheel for keras-embed-sim: filename=keras_embed_sim-0.8.0-py3-none-any.whl size=4559 sha256=b6fee4ab3b454e54e74d90b92916a30e14c4ee157a09d7bdb1a5ad1f576d8886\n",
      "  Stored in directory: /Users/anjaneyatripathi/Library/Caches/pip/wheels/02/f9/ff/71b8118e82790efd55bb33cbe2d21abeec3965cf8f36f5f84c\n",
      "  Building wheel for keras-self-attention (setup.py) ... \u001b[?25ldone\n",
      "\u001b[?25h  Created wheel for keras-self-attention: filename=keras_self_attention-0.46.0-py3-none-any.whl size=17277 sha256=b668c52ce781941870689459f4578d066fcab9708c450b85189359cb76a0bd7c\n",
      "  Stored in directory: /Users/anjaneyatripathi/Library/Caches/pip/wheels/0c/62/49/4acbecf2af103fee5213fd22671d73614cd273a7baf4bd601c\n",
      "Successfully built ktrain langdetect jieba syntok seqeval keras-bert keras-transformer keras-pos-embd keras-multi-head keras-layer-normalization keras-position-wise-feed-forward keras-embed-sim keras-self-attention\n",
      "Installing collected packages: fastprogress, langdetect, jieba, cchardet, syntok, seqeval, keras-pos-embd, keras-self-attention, keras-multi-head, keras-layer-normalization, keras-position-wise-feed-forward, keras-embed-sim, keras-transformer, keras-bert, whoosh, ktrain\n",
      "Successfully installed cchardet-2.1.7 fastprogress-1.0.0 jieba-0.42.1 keras-bert-0.86.0 keras-embed-sim-0.8.0 keras-layer-normalization-0.14.0 keras-multi-head-0.27.0 keras-pos-embd-0.11.0 keras-position-wise-feed-forward-0.6.0 keras-self-attention-0.46.0 keras-transformer-0.38.0 ktrain-0.26.2 langdetect-1.0.8 seqeval-0.0.19 syntok-1.3.1 whoosh-2.7.4\n"
     ]
    }
   ],
   "source": [
    "# install ktrain\n",
    "!python -m pip install ktrain"
   ]
  },
  {
   "cell_type": "code",
   "execution_count": 4,
   "metadata": {},
   "outputs": [],
   "source": [
    "# import ktrain\n",
    "import ktrain\n",
    "from ktrain import text"
   ]
  },
  {
   "cell_type": "code",
   "execution_count": 15,
   "metadata": {},
   "outputs": [
    {
     "name": "stdout",
     "output_type": "stream",
     "text": [
      "detected encoding: utf-8\n",
      "preprocessing train...\n",
      "language: en\n"
     ]
    },
    {
     "data": {
      "text/html": [
       "done."
      ],
      "text/plain": [
       "<IPython.core.display.HTML object>"
      ]
     },
     "metadata": {},
     "output_type": "display_data"
    },
    {
     "name": "stdout",
     "output_type": "stream",
     "text": [
      "Is Multi-Label? False\n",
      "preprocessing test...\n",
      "language: en\n"
     ]
    },
    {
     "data": {
      "text/html": [
       "done."
      ],
      "text/plain": [
       "<IPython.core.display.HTML object>"
      ]
     },
     "metadata": {},
     "output_type": "display_data"
    }
   ],
   "source": [
    "trn, val, preproc = text.texts_from_folder('../data', \n",
    "                                          maxlen=200, \n",
    "                                           lang='en',\n",
    "                                          preprocess_mode='bert',\n",
    "                                          train_test_names=['train', \n",
    "                                                            'test'],\n",
    "                                          classes=['Insider Trading', 'Misappropriated Funds', 'Unregistered', 'Fraud'])"
   ]
  },
  {
   "cell_type": "code",
   "execution_count": 16,
   "metadata": {},
   "outputs": [
    {
     "name": "stdout",
     "output_type": "stream",
     "text": [
      "Is Multi-Label? False\n",
      "maxlen is 200\n",
      "done.\n"
     ]
    }
   ],
   "source": [
    "model = text.text_classifier('bert', trn, preproc=preproc)\n",
    "learner = ktrain.get_learner(model, train_data=trn, val_data=val, batch_size=6)"
   ]
  },
  {
   "cell_type": "code",
   "execution_count": null,
   "metadata": {},
   "outputs": [],
   "source": [
    "learner.autofit(9e-3, 5)"
   ]
  },
  {
   "cell_type": "code",
   "execution_count": 18,
   "metadata": {},
   "outputs": [
    {
     "name": "stdout",
     "output_type": "stream",
     "text": [
      "simulating training for different learning rates... this may take a few moments...\n",
      "Epoch 1/5\n",
      "7/7 [==============================] - 47s 7s/step - loss: 1.8393 - accuracy: 0.2500\n",
      "Epoch 2/5\n",
      "7/7 [==============================] - 61s 9s/step - loss: 1.7980 - accuracy: 0.2500\n",
      "Epoch 3/5\n",
      "7/7 [==============================] - 49s 7s/step - loss: 1.6292 - accuracy: 0.2000\n",
      "Epoch 4/5\n",
      "7/7 [==============================] - 48s 7s/step - loss: 8.0469 - accuracy: 0.1750\n",
      "Epoch 5/5\n",
      "7/7 [==============================] - 48s 7s/step - loss: 123.1806 - accuracy: 0.1250\n",
      "\n",
      "\n",
      "done.\n",
      "Please invoke the Learner.lr_plot() method to visually inspect the loss plot to help identify the maximal learning rate associated with falling loss.\n"
     ]
    }
   ],
   "source": [
    "learner.lr_find(max_epochs = 5)"
   ]
  },
  {
   "cell_type": "code",
   "execution_count": 19,
   "metadata": {},
   "outputs": [
    {
     "data": {
      "image/png": "[encoded data removed]",
      "text/plain": [
       "<Figure size 432x288 with 1 Axes>"
      ]
     },
     "metadata": {
      "needs_background": "light"
     },
     "output_type": "display_data"
    }
   ],
   "source": [
    "learner.lr_plot()"
   ]
  },
  {
   "cell_type": "code",
   "execution_count": null,
   "metadata": {},
   "outputs": [],
   "source": []
  }
 ],
 "metadata": {
  "kernelspec": {
   "display_name": "Python 3",
   "language": "python",
   "name": "python3"
  },
  "language_info": {
   "codemirror_mode": {
    "name": "ipython",
    "version": 3
   },
   "file_extension": ".py",
   "mimetype": "text/x-python",
   "name": "python",
   "nbconvert_exporter": "python",
   "pygments_lexer": "ipython3",
   "version": "3.8.5"
  }
 },
 "nbformat": 4,
 "nbformat_minor": 4
}
